{
 "cells": [
  {
   "cell_type": "markdown",
   "id": "e2ab7d84",
   "metadata": {},
   "source": [
    "# Predictive Maintenance aircraft"
   ]
  },
  {
   "cell_type": "code",
   "execution_count": 1,
   "id": "f14445bd",
   "metadata": {},
   "outputs": [],
   "source": [
    "import pandas as pd\n",
    "import numpy as np\n",
    "import matplotlib.pyplot as plt\n",
    "import seaborn as sns\n",
    "import warnings\n",
    "warnings.filterwarnings('ignore')"
   ]
  },
  {
   "cell_type": "markdown",
   "id": "278e6dca",
   "metadata": {},
   "source": [
    "## Importing data"
   ]
  },
  {
   "cell_type": "code",
   "execution_count": 2,
   "id": "b7717a54",
   "metadata": {},
   "outputs": [],
   "source": [
    "import pickle\n",
    "pickle_in = open(\"X.pickle\",\"rb\")\n",
    "X = pickle.load(pickle_in)\n",
    "\n",
    "pickle_in = open(\"y.pickle\",\"rb\")\n",
    "y = pickle.load(pickle_in)"
   ]
  },
  {
   "cell_type": "markdown",
   "id": "7ec8bac8",
   "metadata": {},
   "source": [
    "## Train and Test Data"
   ]
  },
  {
   "cell_type": "code",
   "execution_count": 3,
   "id": "3cec96a6",
   "metadata": {},
   "outputs": [],
   "source": [
    "from sklearn.model_selection import train_test_split"
   ]
  },
  {
   "cell_type": "code",
   "execution_count": 5,
   "id": "d36f3141",
   "metadata": {},
   "outputs": [],
   "source": [
    "X_train, X_test, y_train, y_test = train_test_split(X, y, test_size=0.2, random_state=66)"
   ]
  },
  {
   "cell_type": "markdown",
   "id": "60792a62",
   "metadata": {},
   "source": [
    "## Standardization "
   ]
  },
  {
   "cell_type": "code",
   "execution_count": 6,
   "id": "bf799f54",
   "metadata": {},
   "outputs": [],
   "source": [
    "from sklearn.preprocessing import StandardScaler\n",
    "sc=StandardScaler()\n",
    "X_train=sc.fit_transform(X_train)\n",
    "X_test=sc.transform(X_test)"
   ]
  },
  {
   "cell_type": "markdown",
   "id": "40a533fe",
   "metadata": {},
   "source": [
    "## Model Preparation"
   ]
  },
  {
   "cell_type": "markdown",
   "id": "82bfcf3f",
   "metadata": {},
   "source": [
    "### Linear Regression"
   ]
  },
  {
   "cell_type": "code",
   "execution_count": 7,
   "id": "11ba406a",
   "metadata": {},
   "outputs": [],
   "source": [
    "from sklearn.linear_model import LinearRegression"
   ]
  },
  {
   "cell_type": "code",
   "execution_count": 8,
   "id": "919c2549",
   "metadata": {},
   "outputs": [
    {
     "name": "stdout",
     "output_type": "stream",
     "text": [
      "31.03702410541637\n",
      "1642.9353312616756\n",
      "0.6481834475757761\n"
     ]
    }
   ],
   "source": [
    "M1= LinearRegression()\n",
    "M1.fit(X_train,y_train)\n",
    "P1= M1.predict(X_test)\n",
    "\n",
    "\n",
    "from sklearn.metrics import mean_squared_log_error,mean_squared_error,mean_absolute_error,r2_score\n",
    "print(mean_absolute_error(y_test,P1))\n",
    "print(mean_squared_error(y_test,P1))\n",
    "print(r2_score(y_test,P1))"
   ]
  },
  {
   "cell_type": "markdown",
   "id": "5e2d9327",
   "metadata": {},
   "source": [
    "### Linear Regression digree 2"
   ]
  },
  {
   "cell_type": "code",
   "execution_count": 9,
   "id": "97295862",
   "metadata": {},
   "outputs": [],
   "source": [
    "from sklearn.preprocessing import PolynomialFeatures\n",
    "from sklearn.pipeline import make_pipeline"
   ]
  },
  {
   "cell_type": "code",
   "execution_count": 10,
   "id": "cc8ad848",
   "metadata": {
    "scrolled": true
   },
   "outputs": [
    {
     "name": "stdout",
     "output_type": "stream",
     "text": [
      "26.55049805060441\n",
      "1362.3907408340845\n",
      "0.7082589896421246\n"
     ]
    }
   ],
   "source": [
    "M2 = make_pipeline(PolynomialFeatures(degree=2),LinearRegression())\n",
    "M2.fit(X_train,y_train)\n",
    "P2=M2.predict(X_test)\n",
    "\n",
    "\n",
    "print(mean_absolute_error(y_test,P2))\n",
    "print(mean_squared_error(y_test,P2))\n",
    "print(r2_score(y_test,P2))"
   ]
  },
  {
   "cell_type": "markdown",
   "id": "72fd9143",
   "metadata": {},
   "source": [
    "### Linear Regression digree 3"
   ]
  },
  {
   "cell_type": "code",
   "execution_count": 11,
   "id": "fb465b83",
   "metadata": {},
   "outputs": [
    {
     "name": "stdout",
     "output_type": "stream",
     "text": [
      "26.680370761750922\n",
      "1380.3672871906967\n",
      "0.7044095097244818\n"
     ]
    }
   ],
   "source": [
    "M3 = make_pipeline(PolynomialFeatures(degree=3),LinearRegression())\n",
    "M3.fit(X_train,y_train)\n",
    "P3=M3.predict(X_test)\n",
    "\n",
    "print(mean_absolute_error(y_test,P3))\n",
    "print(mean_squared_error(y_test,P3))\n",
    "print(r2_score(y_test,P3))"
   ]
  },
  {
   "cell_type": "markdown",
   "id": "b0f8b8a2",
   "metadata": {},
   "source": [
    "### Ridge Regression"
   ]
  },
  {
   "cell_type": "code",
   "execution_count": 12,
   "id": "aebd11c0",
   "metadata": {},
   "outputs": [
    {
     "name": "stdout",
     "output_type": "stream",
     "text": [
      "31.036895711375085\n",
      "1642.9292001009596\n",
      "0.6481847604964884\n"
     ]
    }
   ],
   "source": [
    "from sklearn.linear_model import Ridge\n",
    "M4 = Ridge()\n",
    "M4.fit(X_train,y_train)\n",
    "P4= M4.predict(X_test)\n",
    "\n",
    "print(mean_absolute_error(y_test,P4))\n",
    "print(mean_squared_error(y_test,P4))\n",
    "print(r2_score(y_test,P4))"
   ]
  },
  {
   "cell_type": "markdown",
   "id": "2ce93127",
   "metadata": {},
   "source": [
    "### Ridge Regression digree 2"
   ]
  },
  {
   "cell_type": "code",
   "execution_count": 13,
   "id": "ab3a40b6",
   "metadata": {},
   "outputs": [
    {
     "name": "stdout",
     "output_type": "stream",
     "text": [
      "26.549581524084477\n",
      "1362.327433802225\n",
      "0.7082725461475264\n"
     ]
    }
   ],
   "source": [
    "M5 = make_pipeline(PolynomialFeatures(degree=2),Ridge())\n",
    "M5.fit(X_train,y_train)\n",
    "P5= M5.predict(X_test)\n",
    "\n",
    "print(mean_absolute_error(y_test,P5))\n",
    "print(mean_squared_error(y_test,P5))\n",
    "print(r2_score(y_test,P5))"
   ]
  },
  {
   "cell_type": "markdown",
   "id": "64469637",
   "metadata": {},
   "source": [
    "### Ridge Regression digree 3"
   ]
  },
  {
   "cell_type": "code",
   "execution_count": 14,
   "id": "c4b8a069",
   "metadata": {},
   "outputs": [
    {
     "name": "stdout",
     "output_type": "stream",
     "text": [
      "26.66207870649168\n",
      "1379.0359440768414\n",
      "0.7046946022266016\n"
     ]
    }
   ],
   "source": [
    "M6 = make_pipeline(PolynomialFeatures(degree=3),Ridge())\n",
    "M6.fit(X_train,y_train)\n",
    "P6= M6.predict(X_test)\n",
    "\n",
    "print(mean_absolute_error(y_test,P6))\n",
    "print(mean_squared_error(y_test,P6))\n",
    "print(r2_score(y_test,P6))"
   ]
  },
  {
   "cell_type": "markdown",
   "id": "30f2cd6f",
   "metadata": {},
   "source": [
    "### Lasso"
   ]
  },
  {
   "cell_type": "code",
   "execution_count": 15,
   "id": "6a1c37d4",
   "metadata": {},
   "outputs": [
    {
     "name": "stdout",
     "output_type": "stream",
     "text": [
      "31.000066647006506\n",
      "1645.1989718004133\n",
      "0.647698713822041\n"
     ]
    }
   ],
   "source": [
    "from sklearn.linear_model import Lasso\n",
    "M7 = Lasso()\n",
    "M7.fit(X_train,y_train)\n",
    "P7 = M7.predict(X_test)\n",
    "\n",
    "print(mean_absolute_error(y_test,P7))\n",
    "print(mean_squared_error(y_test,P7))\n",
    "print(r2_score(y_test,P7))"
   ]
  },
  {
   "cell_type": "markdown",
   "id": "f93f4cf9",
   "metadata": {},
   "source": [
    "### Lasso 2"
   ]
  },
  {
   "cell_type": "code",
   "execution_count": 16,
   "id": "aec2b12b",
   "metadata": {},
   "outputs": [
    {
     "name": "stdout",
     "output_type": "stream",
     "text": [
      "26.730586477050124\n",
      "1381.2557624824908\n",
      "0.7042192525012514\n"
     ]
    }
   ],
   "source": [
    "M8 = make_pipeline(PolynomialFeatures(degree=2),Lasso())\n",
    "M8.fit(X_train,y_train)\n",
    "P8= M8.predict(X_test)\n",
    "\n",
    "print(mean_absolute_error(y_test,P8))\n",
    "print(mean_squared_error(y_test,P8))\n",
    "print(r2_score(y_test,P8))"
   ]
  },
  {
   "cell_type": "markdown",
   "id": "62ffff55",
   "metadata": {},
   "source": [
    "### Lasso 3"
   ]
  },
  {
   "cell_type": "code",
   "execution_count": 17,
   "id": "b29019a2",
   "metadata": {},
   "outputs": [
    {
     "name": "stdout",
     "output_type": "stream",
     "text": [
      "26.217371487840214\n",
      "1358.785982816107\n",
      "0.7090309089709483\n"
     ]
    }
   ],
   "source": [
    "M9 = make_pipeline(PolynomialFeatures(degree=3),Lasso())\n",
    "M9.fit(X_train,y_train)\n",
    "P9= M9.predict(X_test)\n",
    "\n",
    "print(mean_absolute_error(y_test,P9))\n",
    "print(mean_squared_error(y_test,P9))\n",
    "print(r2_score(y_test,P9))"
   ]
  },
  {
   "cell_type": "markdown",
   "id": "bfee25fd",
   "metadata": {},
   "source": [
    "### Stochastic Gradient Descent"
   ]
  },
  {
   "cell_type": "code",
   "execution_count": 18,
   "id": "4396ef99",
   "metadata": {},
   "outputs": [],
   "source": [
    "from sklearn.linear_model import SGDRegressor"
   ]
  },
  {
   "cell_type": "code",
   "execution_count": 19,
   "id": "a263d031",
   "metadata": {},
   "outputs": [
    {
     "name": "stdout",
     "output_type": "stream",
     "text": [
      "31.04698753876468\n",
      "1642.3372956736528\n",
      "0.6483115103271222\n"
     ]
    }
   ],
   "source": [
    "M10 = SGDRegressor(max_iter=2000, tol=1e-3)\n",
    "M10.fit(X_train,y_train)\n",
    "P10= M10.predict(X_test)\n",
    "\n",
    "print(mean_absolute_error(y_test,P10))\n",
    "print(mean_squared_error(y_test,P10))\n",
    "print(r2_score(y_test,P10))"
   ]
  },
  {
   "cell_type": "markdown",
   "id": "abb0d0ac",
   "metadata": {},
   "source": [
    "### Decision Tree Regressor"
   ]
  },
  {
   "cell_type": "code",
   "execution_count": 20,
   "id": "712a5fef",
   "metadata": {},
   "outputs": [],
   "source": [
    "from sklearn.tree import DecisionTreeRegressor"
   ]
  },
  {
   "cell_type": "code",
   "execution_count": 21,
   "id": "e45228e6",
   "metadata": {},
   "outputs": [
    {
     "name": "stdout",
     "output_type": "stream",
     "text": [
      "35.8987157741701\n",
      "2722.0571843954444\n",
      "52.17333786902506\n",
      "0.417101357616939\n"
     ]
    }
   ],
   "source": [
    "M11 = DecisionTreeRegressor()\n",
    "M11.fit(X_train,y_train)\n",
    "P11 = M11.predict(X_test)\n",
    "\n",
    "print(mean_absolute_error(y_test,P11))\n",
    "print(mean_squared_error(y_test,P11))\n",
    "print(np.sqrt(mean_squared_error(y_test,P11)))\n",
    "print(r2_score(y_test,P11))"
   ]
  },
  {
   "cell_type": "markdown",
   "id": "85606184",
   "metadata": {},
   "source": [
    "### Random Forest Regressor"
   ]
  },
  {
   "cell_type": "code",
   "execution_count": 22,
   "id": "f1ee5c55",
   "metadata": {},
   "outputs": [
    {
     "name": "stdout",
     "output_type": "stream",
     "text": [
      "25.441921492609644\n",
      "1332.0101441482916\n",
      "36.49671415550024\n",
      "0.7147646606708062\n"
     ]
    }
   ],
   "source": [
    "from sklearn.ensemble import RandomForestRegressor\n",
    "M12 = RandomForestRegressor()\n",
    "\n",
    "M12.fit(X_train,y_train)\n",
    "P12= M12.predict(X_test)\n",
    "\n",
    "print(mean_absolute_error(y_test,P12))\n",
    "print(mean_squared_error(y_test,P12))\n",
    "print(np.sqrt(mean_squared_error(y_test,P12)))\n",
    "print(r2_score(y_test,P12))"
   ]
  },
  {
   "cell_type": "markdown",
   "id": "d17b86a7",
   "metadata": {},
   "source": [
    "### AdaBoost Regressor"
   ]
  },
  {
   "cell_type": "code",
   "execution_count": 23,
   "id": "45f35ba6",
   "metadata": {},
   "outputs": [
    {
     "name": "stdout",
     "output_type": "stream",
     "text": [
      "32.92191532490818\n",
      "1675.7008634385577\n",
      "40.93532537355185\n",
      "0.6411670688118212\n"
     ]
    }
   ],
   "source": [
    "from sklearn.ensemble import AdaBoostRegressor\n",
    "M13 =AdaBoostRegressor()\n",
    "\n",
    "M13.fit(X_train,y_train)\n",
    "P13 =M13.predict(X_test)\n",
    "\n",
    "print(mean_absolute_error(y_test,P13))\n",
    "print(mean_squared_error(y_test,P13))\n",
    "print(np.sqrt(mean_squared_error(y_test,P13)))\n",
    "print(r2_score(y_test,P13))"
   ]
  },
  {
   "cell_type": "markdown",
   "id": "152d94de",
   "metadata": {},
   "source": [
    "### Gradient Boosting Regressor"
   ]
  },
  {
   "cell_type": "code",
   "execution_count": 24,
   "id": "980e6bf4",
   "metadata": {},
   "outputs": [
    {
     "name": "stdout",
     "output_type": "stream",
     "text": [
      "25.604099023455795\n",
      "1313.7746775576943\n",
      "36.24602981786687\n",
      "0.7186695855121414\n"
     ]
    }
   ],
   "source": [
    "from sklearn.ensemble import GradientBoostingRegressor\n",
    "M14 = GradientBoostingRegressor()\n",
    "\n",
    "M14.fit(X_train,y_train)\n",
    "P14 = M14.predict(X_test)\n",
    "\n",
    "print(mean_absolute_error(y_test,P14))\n",
    "print(mean_squared_error(y_test,P14))\n",
    "print(np.sqrt(mean_squared_error(y_test,P14)))\n",
    "print(r2_score(y_test,P14))"
   ]
  },
  {
   "cell_type": "markdown",
   "id": "195bb539",
   "metadata": {},
   "source": [
    "### KNN Regressor"
   ]
  },
  {
   "cell_type": "code",
   "execution_count": 25,
   "id": "3a0c4610",
   "metadata": {},
   "outputs": [
    {
     "name": "stdout",
     "output_type": "stream",
     "text": [
      "31.297310394960018\n",
      "2029.957354010177\n",
      "45.0550480413702\n",
      "0.5653069331051401\n"
     ]
    }
   ],
   "source": [
    "from sklearn.neighbors import KNeighborsRegressor\n",
    "M15 = KNeighborsRegressor(n_neighbors=2)\n",
    "\n",
    "M15.fit(X_train,y_train)\n",
    "\n",
    "P15= M15.predict(X_test)\n",
    "\n",
    "print(mean_absolute_error(y_test,P15))\n",
    "print(mean_squared_error(y_test,P15))\n",
    "print(np.sqrt(mean_squared_error(y_test,P15)))\n",
    "print(r2_score(y_test,P15))"
   ]
  },
  {
   "cell_type": "code",
   "execution_count": 26,
   "id": "8c04bd26",
   "metadata": {},
   "outputs": [
    {
     "data": {
      "text/plain": [
       "Text(0, 0.5, 'Error Rate')"
      ]
     },
     "execution_count": 26,
     "metadata": {},
     "output_type": "execute_result"
    },
    {
     "data": {
      "image/png": "[encoded data removed]",
      "text/plain": [
       "<Figure size 720x576 with 1 Axes>"
      ]
     },
     "metadata": {
      "needs_background": "light"
     },
     "output_type": "display_data"
    }
   ],
   "source": [
    "error_Mat=[]\n",
    "for i in range (1,50):\n",
    "    knn=KNeighborsRegressor(n_neighbors=i)\n",
    "    knn.fit(X_train,y_train)\n",
    "    predict_i=knn.predict(X_test)\n",
    "    error_Mat.append(r2_score(y_test,predict_i))\n",
    "\n",
    "plt.figure(figsize=(10,8))\n",
    "plt.plot(range(1,50),error_Mat,color='blue', linestyle='dashed', marker='o',\n",
    "         markerfacecolor='red', markersize=10)\n",
    "plt.title('Error Rate vs. K Value')\n",
    "plt.xlabel('K')\n",
    "plt.ylabel('Error Rate')"
   ]
  },
  {
   "cell_type": "code",
   "execution_count": 27,
   "id": "43e5d880",
   "metadata": {},
   "outputs": [
    {
     "name": "stdout",
     "output_type": "stream",
     "text": [
      "25.79282287375818\n",
      "1346.2393131087956\n",
      "36.6911339850487\n",
      "0.7117176404550427\n"
     ]
    }
   ],
   "source": [
    "from sklearn.neighbors import KNeighborsRegressor\n",
    "M15 = KNeighborsRegressor(n_neighbors=50)\n",
    "\n",
    "M15.fit(X_train,y_train)\n",
    "\n",
    "P15= M15.predict(X_test)\n",
    "\n",
    "print(mean_absolute_error(y_test,P15))\n",
    "print(mean_squared_error(y_test,P15))\n",
    "print(np.sqrt(mean_squared_error(y_test,P15)))\n",
    "print(r2_score(y_test,P15))"
   ]
  },
  {
   "cell_type": "markdown",
   "id": "02565c20",
   "metadata": {},
   "source": [
    "### Support Vector Machine"
   ]
  },
  {
   "cell_type": "code",
   "execution_count": 28,
   "id": "fb02d2f0",
   "metadata": {},
   "outputs": [
    {
     "name": "stdout",
     "output_type": "stream",
     "text": [
      "26.019896615930335\n",
      "1461.1990385893782\n",
      "38.22563326603469\n",
      "0.6871002781543887\n"
     ]
    }
   ],
   "source": [
    "from sklearn.svm import SVR\n",
    "M16= SVR()\n",
    "\n",
    "M16.fit(X_train,y_train)\n",
    "\n",
    "P16= M16.predict(X_test)\n",
    "\n",
    "print(mean_absolute_error(y_test,P16))\n",
    "print(mean_squared_error(y_test,P16))\n",
    "print(np.sqrt(mean_squared_error(y_test,P16)))\n",
    "print(r2_score(y_test,P16))"
   ]
  },
  {
   "cell_type": "markdown",
   "id": "d23ef26f",
   "metadata": {},
   "source": [
    "### Neural Network Regression"
   ]
  },
  {
   "cell_type": "code",
   "execution_count": 29,
   "id": "48be8d68",
   "metadata": {},
   "outputs": [],
   "source": [
    "from sklearn.neural_network import MLPRegressor"
   ]
  },
  {
   "cell_type": "code",
   "execution_count": 74,
   "id": "b6d7d2d5",
   "metadata": {},
   "outputs": [
    {
     "name": "stdout",
     "output_type": "stream",
     "text": [
      "25.14630406378788\n",
      "1279.4909588112232\n",
      "35.769972865676365\n",
      "0.7260110672516586\n"
     ]
    }
   ],
   "source": [
    "M17= MLPRegressor(hidden_layer_sizes=(200,))\n",
    "\n",
    "M17.fit(X_train,y_train)\n",
    "\n",
    "P17= M17.predict(X_test)\n",
    "\n",
    "print(mean_absolute_error(y_test,P17))\n",
    "print(mean_squared_error(y_test,P17))\n",
    "print(np.sqrt(mean_squared_error(y_test,P17)))\n",
    "print(r2_score(y_test,P17))"
   ]
  },
  {
   "cell_type": "markdown",
   "id": "80f35e36",
   "metadata": {},
   "source": [
    "### Histogram Boosting"
   ]
  },
  {
   "cell_type": "code",
   "execution_count": 31,
   "id": "9fdd55f2",
   "metadata": {},
   "outputs": [],
   "source": [
    "from sklearn.ensemble import HistGradientBoostingRegressor"
   ]
  },
  {
   "cell_type": "code",
   "execution_count": 32,
   "id": "f3281d53",
   "metadata": {},
   "outputs": [
    {
     "name": "stdout",
     "output_type": "stream",
     "text": [
      "25.34270690797032\n",
      "1307.3302581625856\n",
      "36.15702225242816\n",
      "0.7200495871292605\n"
     ]
    }
   ],
   "source": [
    "M18= HistGradientBoostingRegressor()\n",
    "\n",
    "M18.fit(X_train,y_train)\n",
    "\n",
    "P18= M18.predict(X_test)\n",
    "\n",
    "print(mean_absolute_error(y_test,P18))\n",
    "print(mean_squared_error(y_test,P18))\n",
    "print(np.sqrt(mean_squared_error(y_test,P18)))\n",
    "print(r2_score(y_test,P18))"
   ]
  },
  {
   "cell_type": "markdown",
   "id": "566ae617",
   "metadata": {},
   "source": [
    "### XGB Boosting"
   ]
  },
  {
   "cell_type": "code",
   "execution_count": 33,
   "id": "50385db9",
   "metadata": {},
   "outputs": [],
   "source": [
    "from xgboost import XGBRFRegressor"
   ]
  },
  {
   "cell_type": "code",
   "execution_count": 34,
   "id": "ddf1d227",
   "metadata": {},
   "outputs": [
    {
     "name": "stdout",
     "output_type": "stream",
     "text": [
      "26.13597723563647\n",
      "1366.3656067584868\n",
      "36.964382948434114\n",
      "0.7074078157710277\n"
     ]
    }
   ],
   "source": [
    "M19= XGBRFRegressor()\n",
    "\n",
    "M19.fit(X_train,y_train)\n",
    "\n",
    "P19= M19.predict(X_test)\n",
    "\n",
    "print(mean_absolute_error(y_test,P19))\n",
    "print(mean_squared_error(y_test,P19))\n",
    "print(np.sqrt(mean_squared_error(y_test,P19)))\n",
    "print(r2_score(y_test,P19))"
   ]
  },
  {
   "cell_type": "markdown",
   "id": "de3f2b27",
   "metadata": {},
   "source": [
    "### Light GBM"
   ]
  },
  {
   "cell_type": "code",
   "execution_count": 35,
   "id": "b002c748",
   "metadata": {},
   "outputs": [],
   "source": [
    "from lightgbm import LGBMRegressor"
   ]
  },
  {
   "cell_type": "code",
   "execution_count": 36,
   "id": "fe3fd170",
   "metadata": {
    "scrolled": false
   },
   "outputs": [
    {
     "name": "stdout",
     "output_type": "stream",
     "text": [
      "25.440607599835477\n",
      "1315.0118922939823\n",
      "36.26309270172612\n",
      "0.7184046495680133\n"
     ]
    }
   ],
   "source": [
    "M20= LGBMRegressor()\n",
    "\n",
    "M20.fit(X_train,y_train)\n",
    "\n",
    "P20= M20.predict(X_test)\n",
    "\n",
    "print(mean_absolute_error(y_test,P20))\n",
    "print(mean_squared_error(y_test,P20))\n",
    "print(np.sqrt(mean_squared_error(y_test,P20)))\n",
    "print(r2_score(y_test,P20))"
   ]
  },
  {
   "cell_type": "markdown",
   "id": "c1f9da5b",
   "metadata": {},
   "source": [
    "### CAT Boosting"
   ]
  },
  {
   "cell_type": "code",
   "execution_count": 37,
   "id": "fcee8b02",
   "metadata": {},
   "outputs": [],
   "source": [
    "from catboost import CatBoostRegressor"
   ]
  },
  {
   "cell_type": "code",
   "execution_count": 38,
   "id": "c3667035",
   "metadata": {},
   "outputs": [],
   "source": [
    "M21= CatBoostRegressor(verbose=0)\n",
    "\n",
    "M21.fit(X_train,y_train)\n",
    "\n",
    "P21= M21.predict(X_test)"
   ]
  },
  {
   "cell_type": "code",
   "execution_count": 39,
   "id": "af92ebc7",
   "metadata": {
    "scrolled": true
   },
   "outputs": [
    {
     "name": "stdout",
     "output_type": "stream",
     "text": [
      "25.23502302166697\n",
      "1296.1157923832957\n",
      "36.001608191625216\n",
      "0.722451041777338\n"
     ]
    }
   ],
   "source": [
    "print(mean_absolute_error(y_test,P21))\n",
    "print(mean_squared_error(y_test,P21))\n",
    "print(np.sqrt(mean_squared_error(y_test,P21)))\n",
    "print(r2_score(y_test,P21))"
   ]
  },
  {
   "cell_type": "markdown",
   "id": "0f6fbbe5",
   "metadata": {},
   "source": [
    "### BaggingRegressor"
   ]
  },
  {
   "cell_type": "code",
   "execution_count": 40,
   "id": "ec271334",
   "metadata": {},
   "outputs": [],
   "source": [
    "from sklearn.ensemble import BaggingRegressor"
   ]
  },
  {
   "cell_type": "code",
   "execution_count": 41,
   "id": "428fc349",
   "metadata": {},
   "outputs": [
    {
     "name": "stdout",
     "output_type": "stream",
     "text": [
      "26.682214683789677\n",
      "1453.436285437364\n",
      "38.123959466946296\n",
      "0.6887625864627532\n"
     ]
    }
   ],
   "source": [
    "M22= BaggingRegressor()\n",
    "\n",
    "M22.fit(X_train,y_train)\n",
    "\n",
    "P22= M22.predict(X_test)\n",
    "\n",
    "print(mean_absolute_error(y_test,P22))\n",
    "print(mean_squared_error(y_test,P22))\n",
    "print(np.sqrt(mean_squared_error(y_test,P22)))\n",
    "print(r2_score(y_test,P22))"
   ]
  },
  {
   "cell_type": "markdown",
   "id": "1d12afc6",
   "metadata": {},
   "source": [
    "### NuSVR"
   ]
  },
  {
   "cell_type": "code",
   "execution_count": 42,
   "id": "ebf93d92",
   "metadata": {},
   "outputs": [],
   "source": [
    "from sklearn.svm import NuSVR"
   ]
  },
  {
   "cell_type": "code",
   "execution_count": 43,
   "id": "e22c53b2",
   "metadata": {},
   "outputs": [
    {
     "name": "stdout",
     "output_type": "stream",
     "text": [
      "26.922852063878725\n",
      "1464.9954375655225\n",
      "38.27525881774704\n",
      "0.6862873210196802\n"
     ]
    }
   ],
   "source": [
    "M23= NuSVR()\n",
    "\n",
    "M23.fit(X_train,y_train)\n",
    "\n",
    "P23= M23.predict(X_test)\n",
    "\n",
    "print(mean_absolute_error(y_test,P23))\n",
    "print(mean_squared_error(y_test,P23))\n",
    "print(np.sqrt(mean_squared_error(y_test,P23)))\n",
    "print(r2_score(y_test,P23))"
   ]
  },
  {
   "cell_type": "markdown",
   "id": "4179fc5f",
   "metadata": {},
   "source": [
    "### ExtraTreesRegressor"
   ]
  },
  {
   "cell_type": "code",
   "execution_count": 44,
   "id": "7355d027",
   "metadata": {},
   "outputs": [],
   "source": [
    "from sklearn.ensemble import ExtraTreesRegressor"
   ]
  },
  {
   "cell_type": "code",
   "execution_count": 45,
   "id": "cee8c183",
   "metadata": {
    "scrolled": true
   },
   "outputs": [
    {
     "name": "stdout",
     "output_type": "stream",
     "text": [
      "25.35835716016477\n",
      "1318.2984526774896\n",
      "36.30837992361391\n",
      "0.7177008687669932\n"
     ]
    }
   ],
   "source": [
    "M24= ExtraTreesRegressor()\n",
    "\n",
    "M24.fit(X_train,y_train)\n",
    "\n",
    "P24= M24.predict(X_test)\n",
    "\n",
    "print(mean_absolute_error(y_test,P24))\n",
    "print(mean_squared_error(y_test,P24))\n",
    "print(np.sqrt(mean_squared_error(y_test,P24)))\n",
    "print(r2_score(y_test,P24))"
   ]
  },
  {
   "cell_type": "markdown",
   "id": "c6df6e48",
   "metadata": {},
   "source": [
    "### PoissonRegressor"
   ]
  },
  {
   "cell_type": "code",
   "execution_count": 46,
   "id": "82e8a097",
   "metadata": {},
   "outputs": [],
   "source": [
    "from sklearn.linear_model import PoissonRegressor"
   ]
  },
  {
   "cell_type": "code",
   "execution_count": 47,
   "id": "3ce5ac55",
   "metadata": {},
   "outputs": [
    {
     "name": "stdout",
     "output_type": "stream",
     "text": [
      "25.359377271625878\n",
      "1318.6618218318392\n",
      "36.313383508450976\n",
      "0.7176230572544473\n"
     ]
    }
   ],
   "source": [
    "M25= ExtraTreesRegressor()\n",
    "\n",
    "M25.fit(X_train,y_train)\n",
    "\n",
    "P25= M25.predict(X_test)\n",
    "\n",
    "print(mean_absolute_error(y_test,P25))\n",
    "print(mean_squared_error(y_test,P25))\n",
    "print(np.sqrt(mean_squared_error(y_test,P25)))\n",
    "print(r2_score(y_test,P25))"
   ]
  },
  {
   "cell_type": "markdown",
   "id": "2593c4eb",
   "metadata": {},
   "source": [
    "### HuberRegressor"
   ]
  },
  {
   "cell_type": "code",
   "execution_count": 48,
   "id": "40f80ea7",
   "metadata": {},
   "outputs": [],
   "source": [
    "from sklearn.linear_model import HuberRegressor"
   ]
  },
  {
   "cell_type": "code",
   "execution_count": 49,
   "id": "16db70c7",
   "metadata": {
    "scrolled": true
   },
   "outputs": [
    {
     "name": "stdout",
     "output_type": "stream",
     "text": [
      "30.467126314631457\n",
      "1676.0066086338734\n",
      "40.939059694060795\n",
      "0.6411015968370639\n"
     ]
    }
   ],
   "source": [
    "M26= HuberRegressor()\n",
    "\n",
    "M26.fit(X_train,y_train)\n",
    "\n",
    "P26= M26.predict(X_test)\n",
    "\n",
    "print(mean_absolute_error(y_test,P26))\n",
    "print(mean_squared_error(y_test,P26))\n",
    "print(np.sqrt(mean_squared_error(y_test,P26)))\n",
    "print(r2_score(y_test,P26))"
   ]
  },
  {
   "cell_type": "markdown",
   "id": "9a9bb4c5",
   "metadata": {},
   "source": [
    "### RidgeCV"
   ]
  },
  {
   "cell_type": "code",
   "execution_count": 50,
   "id": "39ee6f0a",
   "metadata": {},
   "outputs": [],
   "source": [
    "from sklearn.linear_model import RidgeCV"
   ]
  },
  {
   "cell_type": "code",
   "execution_count": 51,
   "id": "c32cbac6",
   "metadata": {
    "scrolled": true
   },
   "outputs": [
    {
     "name": "stdout",
     "output_type": "stream",
     "text": [
      "31.03576977312626\n",
      "1642.8747188919501\n",
      "40.53239098414933\n",
      "0.6481964270488846\n"
     ]
    }
   ],
   "source": [
    "M27= RidgeCV()\n",
    "\n",
    "M27.fit(X_train,y_train)\n",
    "\n",
    "P27= M27.predict(X_test)\n",
    "\n",
    "print(mean_absolute_error(y_test,P27))\n",
    "print(mean_squared_error(y_test,P27))\n",
    "print(np.sqrt(mean_squared_error(y_test,P27)))\n",
    "print(r2_score(y_test,P27))"
   ]
  },
  {
   "cell_type": "markdown",
   "id": "0774a3e0",
   "metadata": {},
   "source": [
    "### BayesianRidge"
   ]
  },
  {
   "cell_type": "code",
   "execution_count": 52,
   "id": "f2af1c67",
   "metadata": {},
   "outputs": [],
   "source": [
    "from sklearn.linear_model import BayesianRidge"
   ]
  },
  {
   "cell_type": "code",
   "execution_count": 53,
   "id": "13a2c80d",
   "metadata": {
    "scrolled": true
   },
   "outputs": [
    {
     "name": "stdout",
     "output_type": "stream",
     "text": [
      "31.033745251335993\n",
      "1642.7781150965275\n",
      "40.53119928026467\n",
      "0.6482171136904158\n"
     ]
    }
   ],
   "source": [
    "M28= BayesianRidge()\n",
    "\n",
    "M28.fit(X_train,y_train)\n",
    "\n",
    "P28= M28.predict(X_test)\n",
    "\n",
    "print(mean_absolute_error(y_test,P28))\n",
    "print(mean_squared_error(y_test,P28))\n",
    "print(np.sqrt(mean_squared_error(y_test,P28)))\n",
    "print(r2_score(y_test,P28))"
   ]
  },
  {
   "cell_type": "markdown",
   "id": "163e60ea",
   "metadata": {},
   "source": [
    "### ElasticNetCV"
   ]
  },
  {
   "cell_type": "code",
   "execution_count": 54,
   "id": "29334cae",
   "metadata": {},
   "outputs": [],
   "source": [
    "from sklearn.linear_model import ElasticNetCV"
   ]
  },
  {
   "cell_type": "code",
   "execution_count": 55,
   "id": "7449f21b",
   "metadata": {},
   "outputs": [
    {
     "name": "stdout",
     "output_type": "stream",
     "text": [
      "26.459469509193415\n",
      "1360.3437891610495\n",
      "36.8828386808967\n",
      "0.7086973218557444\n"
     ]
    }
   ],
   "source": [
    "#M29= ElasticNetCV()\n",
    "M29 = make_pipeline(PolynomialFeatures(degree=2),ElasticNetCV())\n",
    "M29.fit(X_train,y_train)\n",
    "\n",
    "P29= M29.predict(X_test)\n",
    "\n",
    "print(mean_absolute_error(y_test,P29))\n",
    "print(mean_squared_error(y_test,P29))\n",
    "print(np.sqrt(mean_squared_error(y_test,P29)))\n",
    "print(r2_score(y_test,P29))"
   ]
  },
  {
   "cell_type": "markdown",
   "id": "85681198",
   "metadata": {},
   "source": [
    "### TransformedTargetRegressor"
   ]
  },
  {
   "cell_type": "code",
   "execution_count": 56,
   "id": "5f919776",
   "metadata": {},
   "outputs": [],
   "source": [
    "from sklearn.compose import TransformedTargetRegressor"
   ]
  },
  {
   "cell_type": "code",
   "execution_count": 57,
   "id": "2f9634b0",
   "metadata": {},
   "outputs": [
    {
     "name": "stdout",
     "output_type": "stream",
     "text": [
      "26.459469509193415\n",
      "1360.3437891610495\n",
      "36.8828386808967\n",
      "0.7086973218557444\n"
     ]
    }
   ],
   "source": [
    "M30=TransformedTargetRegressor(regressor=M29)\n",
    "M30.fit(X_train,y_train)\n",
    "\n",
    "P30= M30.predict(X_test)\n",
    "\n",
    "print(mean_absolute_error(y_test,P30))\n",
    "print(mean_squared_error(y_test,P30))\n",
    "print(np.sqrt(mean_squared_error(y_test,P30)))\n",
    "print(r2_score(y_test,P30))"
   ]
  },
  {
   "cell_type": "markdown",
   "id": "ddfacf90",
   "metadata": {},
   "source": [
    "### TweedieRegressor"
   ]
  },
  {
   "cell_type": "code",
   "execution_count": 58,
   "id": "460e8adf",
   "metadata": {},
   "outputs": [],
   "source": [
    "from sklearn.linear_model import TweedieRegressor"
   ]
  },
  {
   "cell_type": "code",
   "execution_count": 59,
   "id": "ba6ac905",
   "metadata": {
    "scrolled": true
   },
   "outputs": [
    {
     "name": "stdout",
     "output_type": "stream",
     "text": [
      "31.96155025110912\n",
      "1770.823350436043\n",
      "42.0811519618468\n",
      "0.6207976332067242\n"
     ]
    }
   ],
   "source": [
    "M31=TweedieRegressor()\n",
    "M31.fit(X_train,y_train)\n",
    "\n",
    "P31= M31.predict(X_test)\n",
    "\n",
    "print(mean_absolute_error(y_test,P31))\n",
    "print(mean_squared_error(y_test,P31))\n",
    "print(np.sqrt(mean_squared_error(y_test,P31)))\n",
    "print(r2_score(y_test,P31))"
   ]
  },
  {
   "cell_type": "markdown",
   "id": "1d340945",
   "metadata": {},
   "source": [
    "### RANSACRegressor"
   ]
  },
  {
   "cell_type": "code",
   "execution_count": 60,
   "id": "9712e2ae",
   "metadata": {},
   "outputs": [],
   "source": [
    "from sklearn.linear_model import RANSACRegressor"
   ]
  },
  {
   "cell_type": "code",
   "execution_count": 61,
   "id": "5d84ecb2",
   "metadata": {
    "scrolled": true
   },
   "outputs": [
    {
     "name": "stdout",
     "output_type": "stream",
     "text": [
      "40.251741834414574\n",
      "2628.4023921254798\n",
      "51.26794702468083\n",
      "0.43715650251976534\n"
     ]
    }
   ],
   "source": [
    "M32=RANSACRegressor()\n",
    "M32.fit(X_train,y_train)\n",
    "\n",
    "P32= M32.predict(X_test)\n",
    "\n",
    "print(mean_absolute_error(y_test,P32))\n",
    "print(mean_squared_error(y_test,P32))\n",
    "print(np.sqrt(mean_squared_error(y_test,P32)))\n",
    "print(r2_score(y_test,P32))"
   ]
  },
  {
   "cell_type": "markdown",
   "id": "f6284a4b",
   "metadata": {},
   "source": [
    "### OrthogonalMatchingPursuitCV"
   ]
  },
  {
   "cell_type": "code",
   "execution_count": 62,
   "id": "f83ca35c",
   "metadata": {},
   "outputs": [],
   "source": [
    "from sklearn.linear_model import OrthogonalMatchingPursuitCV"
   ]
  },
  {
   "cell_type": "code",
   "execution_count": 63,
   "id": "add47e24",
   "metadata": {
    "scrolled": true
   },
   "outputs": [
    {
     "name": "stdout",
     "output_type": "stream",
     "text": [
      "31.488083190041902\n",
      "1681.409672124288\n",
      "41.004995697162165\n",
      "0.6399445901469302\n"
     ]
    }
   ],
   "source": [
    "M33=OrthogonalMatchingPursuitCV()\n",
    "M33.fit(X_train,y_train)\n",
    "\n",
    "P33= M33.predict(X_test)\n",
    "\n",
    "print(mean_absolute_error(y_test,P33))\n",
    "print(mean_squared_error(y_test,P33))\n",
    "print(np.sqrt(mean_squared_error(y_test,P33)))\n",
    "print(r2_score(y_test,P33))"
   ]
  },
  {
   "cell_type": "markdown",
   "id": "14af2fe1",
   "metadata": {},
   "source": [
    "### PassiveAggressiveRegressor"
   ]
  },
  {
   "cell_type": "code",
   "execution_count": 64,
   "id": "7dedcff7",
   "metadata": {},
   "outputs": [],
   "source": [
    "from sklearn.linear_model import PassiveAggressiveRegressor"
   ]
  },
  {
   "cell_type": "code",
   "execution_count": 65,
   "id": "68d333d6",
   "metadata": {
    "scrolled": true
   },
   "outputs": [
    {
     "name": "stdout",
     "output_type": "stream",
     "text": [
      "32.10942845308535\n",
      "1869.6833233427494\n",
      "43.23983491345393\n",
      "0.5996278560530002\n"
     ]
    }
   ],
   "source": [
    "M34=PassiveAggressiveRegressor()\n",
    "M34.fit(X_train,y_train)\n",
    "\n",
    "P34= M34.predict(X_test)\n",
    "\n",
    "print(mean_absolute_error(y_test,P34))\n",
    "print(mean_squared_error(y_test,P34))\n",
    "print(np.sqrt(mean_squared_error(y_test,P34)))\n",
    "print(r2_score(y_test,P34))"
   ]
  },
  {
   "cell_type": "markdown",
   "id": "f0d121ba",
   "metadata": {},
   "source": [
    "## All at once"
   ]
  },
  {
   "cell_type": "code",
   "execution_count": 66,
   "id": "976f83af",
   "metadata": {},
   "outputs": [],
   "source": [
    "Name=['Linear Regression','Linear Regression digree 2','Linear Regression digree 3','Ridge Regression',\n",
    "      'Ridge Regression digree 2','Ridge Regression digree 3','Lasso','Lasso digree 2','Lasso digree 3','SGDRegressor',\n",
    "     'Decision Tree Regressor','Random Forest Regressor','AdaBoost Regressor','Gradient Boosting Regressor','KNN Regressor',\n",
    "      'Support Vector Machine','Neural Network Regression','Histogram Boosting','XGB Boosting','Light GBM','CAT Boosting',\n",
    "      'BaggingRegressor','NuSVR','ExtraTreesRegressor','PoissonRegressor','HuberRegressor',\n",
    "      'RidgeCV','BayesianRidge','ElasticNetCV','TransformedTargetRegressor','TweedieRegressor',\n",
    "      'RANSACRegressor','OrthogonalMatchingPursuitCV','PassiveAggressiveRegressor']\n",
    "clfs= [M1,M2,M3,M4,M5,M6,M7,M8,M9,M10,M11,M12,M13,M14,M15,M16,M17,M18,M19,M20,M21,M22,M23,M24,M25,M26,M27,M28,M29,M30,\n",
    "       M31,M32,M33,M34]"
   ]
  },
  {
   "cell_type": "code",
   "execution_count": 67,
   "id": "fff7ba02",
   "metadata": {},
   "outputs": [],
   "source": [
    "results=[]\n",
    "for i in clfs:\n",
    "    i.fit(X_train,y_train)\n",
    "    r2=r2_score(y_test, i.predict(X_test))\n",
    "    results.append(r2)"
   ]
  },
  {
   "cell_type": "code",
   "execution_count": 68,
   "id": "61c731c8",
   "metadata": {},
   "outputs": [
    {
     "data": {
      "text/html": [
       "<div>\n",
       "<style scoped>\n",
       "    .dataframe tbody tr th:only-of-type {\n",
       "        vertical-align: middle;\n",
       "    }\n",
       "\n",
       "    .dataframe tbody tr th {\n",
       "        vertical-align: top;\n",
       "    }\n",
       "\n",
       "    .dataframe thead th {\n",
       "        text-align: right;\n",
       "    }\n",
       "</style>\n",
       "<table border=\"1\" class=\"dataframe\">\n",
       "  <thead>\n",
       "    <tr style=\"text-align: right;\">\n",
       "      <th></th>\n",
       "      <th>R2</th>\n",
       "    </tr>\n",
       "  </thead>\n",
       "  <tbody>\n",
       "    <tr>\n",
       "      <th>Neural Network Regression</th>\n",
       "      <td>0.724807</td>\n",
       "    </tr>\n",
       "    <tr>\n",
       "      <th>CAT Boosting</th>\n",
       "      <td>0.722451</td>\n",
       "    </tr>\n",
       "    <tr>\n",
       "      <th>Histogram Boosting</th>\n",
       "      <td>0.722232</td>\n",
       "    </tr>\n",
       "    <tr>\n",
       "      <th>ExtraTreesRegressor</th>\n",
       "      <td>0.719490</td>\n",
       "    </tr>\n",
       "    <tr>\n",
       "      <th>Gradient Boosting Regressor</th>\n",
       "      <td>0.718690</td>\n",
       "    </tr>\n",
       "    <tr>\n",
       "      <th>Light GBM</th>\n",
       "      <td>0.718405</td>\n",
       "    </tr>\n",
       "    <tr>\n",
       "      <th>PoissonRegressor</th>\n",
       "      <td>0.716363</td>\n",
       "    </tr>\n",
       "    <tr>\n",
       "      <th>Random Forest Regressor</th>\n",
       "      <td>0.716332</td>\n",
       "    </tr>\n",
       "    <tr>\n",
       "      <th>KNN Regressor</th>\n",
       "      <td>0.711718</td>\n",
       "    </tr>\n",
       "    <tr>\n",
       "      <th>Lasso digree 3</th>\n",
       "      <td>0.709031</td>\n",
       "    </tr>\n",
       "    <tr>\n",
       "      <th>ElasticNetCV</th>\n",
       "      <td>0.708697</td>\n",
       "    </tr>\n",
       "    <tr>\n",
       "      <th>TransformedTargetRegressor</th>\n",
       "      <td>0.708697</td>\n",
       "    </tr>\n",
       "    <tr>\n",
       "      <th>Ridge Regression digree 2</th>\n",
       "      <td>0.708273</td>\n",
       "    </tr>\n",
       "    <tr>\n",
       "      <th>Linear Regression digree 2</th>\n",
       "      <td>0.708259</td>\n",
       "    </tr>\n",
       "    <tr>\n",
       "      <th>XGB Boosting</th>\n",
       "      <td>0.707408</td>\n",
       "    </tr>\n",
       "    <tr>\n",
       "      <th>Ridge Regression digree 3</th>\n",
       "      <td>0.704695</td>\n",
       "    </tr>\n",
       "    <tr>\n",
       "      <th>Linear Regression digree 3</th>\n",
       "      <td>0.704410</td>\n",
       "    </tr>\n",
       "    <tr>\n",
       "      <th>Lasso digree 2</th>\n",
       "      <td>0.704219</td>\n",
       "    </tr>\n",
       "    <tr>\n",
       "      <th>Support Vector Machine</th>\n",
       "      <td>0.687100</td>\n",
       "    </tr>\n",
       "    <tr>\n",
       "      <th>BaggingRegressor</th>\n",
       "      <td>0.686329</td>\n",
       "    </tr>\n",
       "    <tr>\n",
       "      <th>NuSVR</th>\n",
       "      <td>0.686287</td>\n",
       "    </tr>\n",
       "    <tr>\n",
       "      <th>SGDRegressor</th>\n",
       "      <td>0.648229</td>\n",
       "    </tr>\n",
       "    <tr>\n",
       "      <th>BayesianRidge</th>\n",
       "      <td>0.648217</td>\n",
       "    </tr>\n",
       "    <tr>\n",
       "      <th>RidgeCV</th>\n",
       "      <td>0.648196</td>\n",
       "    </tr>\n",
       "    <tr>\n",
       "      <th>Ridge Regression</th>\n",
       "      <td>0.648185</td>\n",
       "    </tr>\n",
       "    <tr>\n",
       "      <th>Linear Regression</th>\n",
       "      <td>0.648183</td>\n",
       "    </tr>\n",
       "    <tr>\n",
       "      <th>Lasso</th>\n",
       "      <td>0.647699</td>\n",
       "    </tr>\n",
       "    <tr>\n",
       "      <th>AdaBoost Regressor</th>\n",
       "      <td>0.642130</td>\n",
       "    </tr>\n",
       "    <tr>\n",
       "      <th>HuberRegressor</th>\n",
       "      <td>0.641102</td>\n",
       "    </tr>\n",
       "    <tr>\n",
       "      <th>OrthogonalMatchingPursuitCV</th>\n",
       "      <td>0.639945</td>\n",
       "    </tr>\n",
       "    <tr>\n",
       "      <th>TweedieRegressor</th>\n",
       "      <td>0.620798</td>\n",
       "    </tr>\n",
       "    <tr>\n",
       "      <th>PassiveAggressiveRegressor</th>\n",
       "      <td>0.528078</td>\n",
       "    </tr>\n",
       "    <tr>\n",
       "      <th>RANSACRegressor</th>\n",
       "      <td>0.514140</td>\n",
       "    </tr>\n",
       "    <tr>\n",
       "      <th>Decision Tree Regressor</th>\n",
       "      <td>0.416234</td>\n",
       "    </tr>\n",
       "  </tbody>\n",
       "</table>\n",
       "</div>"
      ],
      "text/plain": [
       "                                   R2\n",
       "Neural Network Regression    0.724807\n",
       "CAT Boosting                 0.722451\n",
       "Histogram Boosting           0.722232\n",
       "ExtraTreesRegressor          0.719490\n",
       "Gradient Boosting Regressor  0.718690\n",
       "Light GBM                    0.718405\n",
       "PoissonRegressor             0.716363\n",
       "Random Forest Regressor      0.716332\n",
       "KNN Regressor                0.711718\n",
       "Lasso digree 3               0.709031\n",
       "ElasticNetCV                 0.708697\n",
       "TransformedTargetRegressor   0.708697\n",
       "Ridge Regression digree 2    0.708273\n",
       "Linear Regression digree 2   0.708259\n",
       "XGB Boosting                 0.707408\n",
       "Ridge Regression digree 3    0.704695\n",
       "Linear Regression digree 3   0.704410\n",
       "Lasso digree 2               0.704219\n",
       "Support Vector Machine       0.687100\n",
       "BaggingRegressor             0.686329\n",
       "NuSVR                        0.686287\n",
       "SGDRegressor                 0.648229\n",
       "BayesianRidge                0.648217\n",
       "RidgeCV                      0.648196\n",
       "Ridge Regression             0.648185\n",
       "Linear Regression            0.648183\n",
       "Lasso                        0.647699\n",
       "AdaBoost Regressor           0.642130\n",
       "HuberRegressor               0.641102\n",
       "OrthogonalMatchingPursuitCV  0.639945\n",
       "TweedieRegressor             0.620798\n",
       "PassiveAggressiveRegressor   0.528078\n",
       "RANSACRegressor              0.514140\n",
       "Decision Tree Regressor      0.416234"
      ]
     },
     "execution_count": 68,
     "metadata": {},
     "output_type": "execute_result"
    }
   ],
   "source": [
    "score= pd.DataFrame(results,index=Name)\n",
    "score.columns=['R2']\n",
    "score.sort_values(by='R2',ascending=False)"
   ]
  },
  {
   "cell_type": "markdown",
   "id": "51f380ad",
   "metadata": {},
   "source": [
    "## Cross Validation"
   ]
  },
  {
   "cell_type": "code",
   "execution_count": 69,
   "id": "3f6ab81e",
   "metadata": {},
   "outputs": [],
   "source": [
    "from sklearn.model_selection import KFold,cross_val_score"
   ]
  },
  {
   "cell_type": "code",
   "execution_count": 70,
   "id": "a39ec0e3",
   "metadata": {},
   "outputs": [],
   "source": [
    "kfold=KFold(n_splits=5,shuffle=False, random_state=None)"
   ]
  },
  {
   "cell_type": "code",
   "execution_count": 71,
   "id": "c112d090",
   "metadata": {},
   "outputs": [],
   "source": [
    "kfold=KFold(n_splits=5,shuffle=False, random_state=None)\n",
    "results_mean=[]\n",
    "\n",
    "for i in clfs:\n",
    "    csv=cross_val_score(i,X_train,y_train,cv=kfold)\n",
    "    mean_score=csv.mean()\n",
    "    results_mean.append(mean_score)\n",
    "\n",
    "score= pd.DataFrame(results_mean,index=Name)\n",
    "score.columns=['Accuracy']"
   ]
  },
  {
   "cell_type": "code",
   "execution_count": 72,
   "id": "68b13964",
   "metadata": {
    "scrolled": false
   },
   "outputs": [
    {
     "data": {
      "text/html": [
       "<div>\n",
       "<style scoped>\n",
       "    .dataframe tbody tr th:only-of-type {\n",
       "        vertical-align: middle;\n",
       "    }\n",
       "\n",
       "    .dataframe tbody tr th {\n",
       "        vertical-align: top;\n",
       "    }\n",
       "\n",
       "    .dataframe thead th {\n",
       "        text-align: right;\n",
       "    }\n",
       "</style>\n",
       "<table border=\"1\" class=\"dataframe\">\n",
       "  <thead>\n",
       "    <tr style=\"text-align: right;\">\n",
       "      <th></th>\n",
       "      <th>Accuracy</th>\n",
       "    </tr>\n",
       "  </thead>\n",
       "  <tbody>\n",
       "    <tr>\n",
       "      <th>Neural Network Regression</th>\n",
       "      <td>0.734872</td>\n",
       "    </tr>\n",
       "    <tr>\n",
       "      <th>CAT Boosting</th>\n",
       "      <td>0.728821</td>\n",
       "    </tr>\n",
       "    <tr>\n",
       "      <th>Light GBM</th>\n",
       "      <td>0.728451</td>\n",
       "    </tr>\n",
       "    <tr>\n",
       "      <th>Gradient Boosting Regressor</th>\n",
       "      <td>0.728353</td>\n",
       "    </tr>\n",
       "    <tr>\n",
       "      <th>ExtraTreesRegressor</th>\n",
       "      <td>0.727308</td>\n",
       "    </tr>\n",
       "    <tr>\n",
       "      <th>Histogram Boosting</th>\n",
       "      <td>0.727143</td>\n",
       "    </tr>\n",
       "    <tr>\n",
       "      <th>PoissonRegressor</th>\n",
       "      <td>0.726160</td>\n",
       "    </tr>\n",
       "    <tr>\n",
       "      <th>Random Forest Regressor</th>\n",
       "      <td>0.723918</td>\n",
       "    </tr>\n",
       "    <tr>\n",
       "      <th>Lasso digree 3</th>\n",
       "      <td>0.721621</td>\n",
       "    </tr>\n",
       "    <tr>\n",
       "      <th>Ridge Regression digree 2</th>\n",
       "      <td>0.721050</td>\n",
       "    </tr>\n",
       "    <tr>\n",
       "      <th>Linear Regression digree 2</th>\n",
       "      <td>0.721038</td>\n",
       "    </tr>\n",
       "    <tr>\n",
       "      <th>ElasticNetCV</th>\n",
       "      <td>0.719907</td>\n",
       "    </tr>\n",
       "    <tr>\n",
       "      <th>TransformedTargetRegressor</th>\n",
       "      <td>0.719907</td>\n",
       "    </tr>\n",
       "    <tr>\n",
       "      <th>XGB Boosting</th>\n",
       "      <td>0.719255</td>\n",
       "    </tr>\n",
       "    <tr>\n",
       "      <th>Lasso digree 2</th>\n",
       "      <td>0.716555</td>\n",
       "    </tr>\n",
       "    <tr>\n",
       "      <th>KNN Regressor</th>\n",
       "      <td>0.715095</td>\n",
       "    </tr>\n",
       "    <tr>\n",
       "      <th>Ridge Regression digree 3</th>\n",
       "      <td>0.711569</td>\n",
       "    </tr>\n",
       "    <tr>\n",
       "      <th>Linear Regression digree 3</th>\n",
       "      <td>0.711062</td>\n",
       "    </tr>\n",
       "    <tr>\n",
       "      <th>BaggingRegressor</th>\n",
       "      <td>0.697128</td>\n",
       "    </tr>\n",
       "    <tr>\n",
       "      <th>Support Vector Machine</th>\n",
       "      <td>0.693280</td>\n",
       "    </tr>\n",
       "    <tr>\n",
       "      <th>NuSVR</th>\n",
       "      <td>0.690757</td>\n",
       "    </tr>\n",
       "    <tr>\n",
       "      <th>AdaBoost Regressor</th>\n",
       "      <td>0.659446</td>\n",
       "    </tr>\n",
       "    <tr>\n",
       "      <th>BayesianRidge</th>\n",
       "      <td>0.656396</td>\n",
       "    </tr>\n",
       "    <tr>\n",
       "      <th>RidgeCV</th>\n",
       "      <td>0.656391</td>\n",
       "    </tr>\n",
       "    <tr>\n",
       "      <th>Ridge Regression</th>\n",
       "      <td>0.656388</td>\n",
       "    </tr>\n",
       "    <tr>\n",
       "      <th>Linear Regression</th>\n",
       "      <td>0.656387</td>\n",
       "    </tr>\n",
       "    <tr>\n",
       "      <th>Lasso</th>\n",
       "      <td>0.655972</td>\n",
       "    </tr>\n",
       "    <tr>\n",
       "      <th>SGDRegressor</th>\n",
       "      <td>0.655582</td>\n",
       "    </tr>\n",
       "    <tr>\n",
       "      <th>HuberRegressor</th>\n",
       "      <td>0.648950</td>\n",
       "    </tr>\n",
       "    <tr>\n",
       "      <th>OrthogonalMatchingPursuitCV</th>\n",
       "      <td>0.646803</td>\n",
       "    </tr>\n",
       "    <tr>\n",
       "      <th>TweedieRegressor</th>\n",
       "      <td>0.623618</td>\n",
       "    </tr>\n",
       "    <tr>\n",
       "      <th>PassiveAggressiveRegressor</th>\n",
       "      <td>0.590987</td>\n",
       "    </tr>\n",
       "    <tr>\n",
       "      <th>RANSACRegressor</th>\n",
       "      <td>0.485245</td>\n",
       "    </tr>\n",
       "    <tr>\n",
       "      <th>Decision Tree Regressor</th>\n",
       "      <td>0.432699</td>\n",
       "    </tr>\n",
       "  </tbody>\n",
       "</table>\n",
       "</div>"
      ],
      "text/plain": [
       "                             Accuracy\n",
       "Neural Network Regression    0.734872\n",
       "CAT Boosting                 0.728821\n",
       "Light GBM                    0.728451\n",
       "Gradient Boosting Regressor  0.728353\n",
       "ExtraTreesRegressor          0.727308\n",
       "Histogram Boosting           0.727143\n",
       "PoissonRegressor             0.726160\n",
       "Random Forest Regressor      0.723918\n",
       "Lasso digree 3               0.721621\n",
       "Ridge Regression digree 2    0.721050\n",
       "Linear Regression digree 2   0.721038\n",
       "ElasticNetCV                 0.719907\n",
       "TransformedTargetRegressor   0.719907\n",
       "XGB Boosting                 0.719255\n",
       "Lasso digree 2               0.716555\n",
       "KNN Regressor                0.715095\n",
       "Ridge Regression digree 3    0.711569\n",
       "Linear Regression digree 3   0.711062\n",
       "BaggingRegressor             0.697128\n",
       "Support Vector Machine       0.693280\n",
       "NuSVR                        0.690757\n",
       "AdaBoost Regressor           0.659446\n",
       "BayesianRidge                0.656396\n",
       "RidgeCV                      0.656391\n",
       "Ridge Regression             0.656388\n",
       "Linear Regression            0.656387\n",
       "Lasso                        0.655972\n",
       "SGDRegressor                 0.655582\n",
       "HuberRegressor               0.648950\n",
       "OrthogonalMatchingPursuitCV  0.646803\n",
       "TweedieRegressor             0.623618\n",
       "PassiveAggressiveRegressor   0.590987\n",
       "RANSACRegressor              0.485245\n",
       "Decision Tree Regressor      0.432699"
      ]
     },
     "execution_count": 72,
     "metadata": {},
     "output_type": "execute_result"
    }
   ],
   "source": [
    "score.sort_values(by='Accuracy',ascending=False)"
   ]
  },
  {
   "cell_type": "code",
   "execution_count": 78,
   "id": "f9413e03",
   "metadata": {},
   "outputs": [
    {
     "data": {
      "text/plain": [
       "(16504, 15)"
      ]
     },
     "execution_count": 78,
     "metadata": {},
     "output_type": "execute_result"
    }
   ],
   "source": [
    "X_train.shape"
   ]
  },
  {
   "cell_type": "code",
   "execution_count": 75,
   "id": "3108911e",
   "metadata": {},
   "outputs": [],
   "source": [
    "from tensorflow.keras import Sequential\n",
    "from tensorflow.keras.layers import Dense,Dropout\n",
    "from tensorflow.keras.callbacks import EarlyStopping"
   ]
  },
  {
   "cell_type": "code",
   "execution_count": 79,
   "id": "5aa445b1",
   "metadata": {},
   "outputs": [],
   "source": [
    "model = Sequential()\n",
    "\n",
    "model.add(Dense(15,activation='relu'))\n",
    "\n",
    "model.add(Dense(14,activation='relu'))\n",
    "\n",
    "model.add(Dense(14,activation='relu'))\n",
    "\n",
    "model.add(Dense(14,activation='relu'))\n",
    "\n",
    "model.add(Dense(12,activation='relu'))\n",
    "\n",
    "model.add(Dense(10,activation='relu'))\n",
    "\n",
    "model.add(Dense(6,activation='relu'))\n",
    "\n",
    "model.add(Dense(1))\n",
    "\n",
    "model.compile(loss='mse',optimizer='adam',metrics=['mse'])"
   ]
  },
  {
   "cell_type": "code",
   "execution_count": 80,
   "id": "e06998b0",
   "metadata": {
    "collapsed": true
   },
   "outputs": [
    {
     "name": "stdout",
     "output_type": "stream",
     "text": [
      "Epoch 1/100\n",
      "516/516 [==============================] - 4s 3ms/step - loss: 5571.7529 - mse: 5571.7529 - val_loss: 1526.9934 - val_mse: 1526.9934\n",
      "Epoch 2/100\n",
      "516/516 [==============================] - 1s 3ms/step - loss: 1423.3888 - mse: 1423.3888 - val_loss: 1396.6530 - val_mse: 1396.6530\n",
      "Epoch 3/100\n",
      "516/516 [==============================] - 2s 3ms/step - loss: 1352.0126 - mse: 1352.0126 - val_loss: 1374.9492 - val_mse: 1374.9492\n",
      "Epoch 4/100\n",
      "516/516 [==============================] - 2s 3ms/step - loss: 1322.2228 - mse: 1322.2228 - val_loss: 1342.5988 - val_mse: 1342.5988\n",
      "Epoch 5/100\n",
      "516/516 [==============================] - 1s 3ms/step - loss: 1310.2015 - mse: 1310.2015 - val_loss: 1337.4609 - val_mse: 1337.4609\n",
      "Epoch 6/100\n",
      "516/516 [==============================] - 1s 3ms/step - loss: 1302.8250 - mse: 1302.8250 - val_loss: 1366.5472 - val_mse: 1366.5472\n",
      "Epoch 7/100\n",
      "516/516 [==============================] - 1s 3ms/step - loss: 1290.6276 - mse: 1290.6276 - val_loss: 1337.5190 - val_mse: 1337.5190\n",
      "Epoch 8/100\n",
      "516/516 [==============================] - 1s 3ms/step - loss: 1290.3654 - mse: 1290.3654 - val_loss: 1312.6271 - val_mse: 1312.6271\n",
      "Epoch 9/100\n",
      "516/516 [==============================] - 1s 3ms/step - loss: 1284.6808 - mse: 1284.6808 - val_loss: 1321.9917 - val_mse: 1321.9917\n",
      "Epoch 10/100\n",
      "516/516 [==============================] - 1s 3ms/step - loss: 1286.3160 - mse: 1286.3160 - val_loss: 1323.2078 - val_mse: 1323.2078\n",
      "Epoch 11/100\n",
      "516/516 [==============================] - 1s 3ms/step - loss: 1284.5521 - mse: 1284.5521 - val_loss: 1325.6533 - val_mse: 1325.6533\n",
      "Epoch 12/100\n",
      "516/516 [==============================] - 1s 3ms/step - loss: 1281.1479 - mse: 1281.1479 - val_loss: 1307.3633 - val_mse: 1307.3633\n",
      "Epoch 13/100\n",
      "516/516 [==============================] - 1s 3ms/step - loss: 1284.7037 - mse: 1284.7037 - val_loss: 1302.2023 - val_mse: 1302.2023\n",
      "Epoch 14/100\n",
      "516/516 [==============================] - 1s 3ms/step - loss: 1274.7988 - mse: 1274.7988 - val_loss: 1300.9093 - val_mse: 1300.9093\n",
      "Epoch 15/100\n",
      "516/516 [==============================] - 1s 3ms/step - loss: 1275.6466 - mse: 1275.6466 - val_loss: 1315.3939 - val_mse: 1315.3939\n",
      "Epoch 16/100\n",
      "516/516 [==============================] - 2s 3ms/step - loss: 1274.0656 - mse: 1274.0656 - val_loss: 1326.1018 - val_mse: 1326.1018\n",
      "Epoch 17/100\n",
      "516/516 [==============================] - 2s 3ms/step - loss: 1269.9161 - mse: 1269.9161 - val_loss: 1296.5547 - val_mse: 1296.5547\n",
      "Epoch 18/100\n",
      "516/516 [==============================] - 1s 2ms/step - loss: 1271.3743 - mse: 1271.3743 - val_loss: 1294.8302 - val_mse: 1294.8302\n",
      "Epoch 19/100\n",
      "516/516 [==============================] - 1s 3ms/step - loss: 1269.7111 - mse: 1269.7111 - val_loss: 1302.8533 - val_mse: 1302.8533\n",
      "Epoch 20/100\n",
      "516/516 [==============================] - 1s 2ms/step - loss: 1270.3618 - mse: 1270.3618 - val_loss: 1328.6588 - val_mse: 1328.6588\n",
      "Epoch 21/100\n",
      "516/516 [==============================] - 1s 3ms/step - loss: 1271.2428 - mse: 1271.2428 - val_loss: 1297.0930 - val_mse: 1297.0930\n",
      "Epoch 22/100\n",
      "516/516 [==============================] - 2s 3ms/step - loss: 1262.9103 - mse: 1262.9103 - val_loss: 1304.8784 - val_mse: 1304.8784\n",
      "Epoch 23/100\n",
      "516/516 [==============================] - 2s 3ms/step - loss: 1261.3827 - mse: 1261.3827 - val_loss: 1293.6444 - val_mse: 1293.6444\n",
      "Epoch 24/100\n",
      "516/516 [==============================] - 1s 2ms/step - loss: 1261.7214 - mse: 1261.7214 - val_loss: 1292.6226 - val_mse: 1292.6226\n",
      "Epoch 25/100\n",
      "516/516 [==============================] - 1s 3ms/step - loss: 1263.4821 - mse: 1263.4821 - val_loss: 1295.0247 - val_mse: 1295.0247\n",
      "Epoch 26/100\n",
      "516/516 [==============================] - 1s 2ms/step - loss: 1263.4751 - mse: 1263.4751 - val_loss: 1299.8533 - val_mse: 1299.8533\n",
      "Epoch 27/100\n",
      "516/516 [==============================] - 1s 2ms/step - loss: 1259.4324 - mse: 1259.4324 - val_loss: 1307.7302 - val_mse: 1307.7302\n",
      "Epoch 28/100\n",
      "516/516 [==============================] - 1s 2ms/step - loss: 1259.0089 - mse: 1259.0089 - val_loss: 1293.2267 - val_mse: 1293.2267\n",
      "Epoch 29/100\n",
      "516/516 [==============================] - 1s 3ms/step - loss: 1260.4019 - mse: 1260.4019 - val_loss: 1288.7878 - val_mse: 1288.7878\n",
      "Epoch 30/100\n",
      "516/516 [==============================] - 2s 3ms/step - loss: 1252.0024 - mse: 1252.0024 - val_loss: 1298.6610 - val_mse: 1298.6610\n",
      "Epoch 31/100\n",
      "516/516 [==============================] - 1s 3ms/step - loss: 1256.8029 - mse: 1256.8029 - val_loss: 1289.1742 - val_mse: 1289.1742\n",
      "Epoch 32/100\n",
      "516/516 [==============================] - 2s 3ms/step - loss: 1252.0294 - mse: 1252.0294 - val_loss: 1296.3280 - val_mse: 1296.3280\n",
      "Epoch 33/100\n",
      "516/516 [==============================] - 1s 3ms/step - loss: 1252.7648 - mse: 1252.7648 - val_loss: 1309.4689 - val_mse: 1309.4689\n",
      "Epoch 34/100\n",
      "516/516 [==============================] - 1s 3ms/step - loss: 1253.4128 - mse: 1253.4128 - val_loss: 1290.5579 - val_mse: 1290.5579\n",
      "Epoch 35/100\n",
      "516/516 [==============================] - 2s 3ms/step - loss: 1255.3783 - mse: 1255.3783 - val_loss: 1286.2659 - val_mse: 1286.2659\n",
      "Epoch 36/100\n",
      "516/516 [==============================] - 2s 3ms/step - loss: 1246.9764 - mse: 1246.9764 - val_loss: 1300.7362 - val_mse: 1300.7362\n",
      "Epoch 37/100\n",
      "516/516 [==============================] - 2s 3ms/step - loss: 1248.7650 - mse: 1248.7650 - val_loss: 1289.0592 - val_mse: 1289.0592\n",
      "Epoch 38/100\n",
      "516/516 [==============================] - 2s 3ms/step - loss: 1252.0917 - mse: 1252.0917 - val_loss: 1288.7834 - val_mse: 1288.7834\n",
      "Epoch 39/100\n",
      "516/516 [==============================] - 1s 3ms/step - loss: 1249.2350 - mse: 1249.2350 - val_loss: 1289.7406 - val_mse: 1289.7406\n",
      "Epoch 40/100\n",
      "516/516 [==============================] - 1s 3ms/step - loss: 1247.4188 - mse: 1247.4188 - val_loss: 1286.1194 - val_mse: 1286.1194\n",
      "Epoch 41/100\n",
      "516/516 [==============================] - 1s 3ms/step - loss: 1249.7028 - mse: 1249.7028 - val_loss: 1286.7979 - val_mse: 1286.7979\n",
      "Epoch 42/100\n",
      "516/516 [==============================] - 1s 3ms/step - loss: 1249.8721 - mse: 1249.8721 - val_loss: 1283.0930 - val_mse: 1283.0930\n",
      "Epoch 43/100\n",
      "516/516 [==============================] - 1s 3ms/step - loss: 1245.0668 - mse: 1245.0668 - val_loss: 1285.4248 - val_mse: 1285.4248\n",
      "Epoch 44/100\n",
      "516/516 [==============================] - 1s 3ms/step - loss: 1243.3126 - mse: 1243.3126 - val_loss: 1286.4597 - val_mse: 1286.4597\n",
      "Epoch 45/100\n",
      "516/516 [==============================] - 1s 3ms/step - loss: 1246.7888 - mse: 1246.7888 - val_loss: 1300.2943 - val_mse: 1300.2943\n",
      "Epoch 46/100\n",
      "516/516 [==============================] - 1s 3ms/step - loss: 1239.9833 - mse: 1239.9833 - val_loss: 1296.4487 - val_mse: 1296.4487\n",
      "Epoch 47/100\n",
      "516/516 [==============================] - 2s 3ms/step - loss: 1244.4176 - mse: 1244.4176 - val_loss: 1280.1377 - val_mse: 1280.1377\n",
      "Epoch 48/100\n",
      "516/516 [==============================] - 2s 3ms/step - loss: 1247.5216 - mse: 1247.5216 - val_loss: 1281.3994 - val_mse: 1281.3994\n",
      "Epoch 49/100\n",
      "516/516 [==============================] - 2s 3ms/step - loss: 1242.7560 - mse: 1242.7560 - val_loss: 1309.7042 - val_mse: 1309.7042\n",
      "Epoch 50/100\n",
      "516/516 [==============================] - 2s 3ms/step - loss: 1240.7573 - mse: 1240.7573 - val_loss: 1296.3809 - val_mse: 1296.3809\n",
      "Epoch 51/100\n",
      "516/516 [==============================] - 2s 3ms/step - loss: 1245.3087 - mse: 1245.3087 - val_loss: 1286.0140 - val_mse: 1286.0140\n",
      "Epoch 52/100\n",
      "516/516 [==============================] - 2s 3ms/step - loss: 1237.4698 - mse: 1237.4698 - val_loss: 1277.3650 - val_mse: 1277.3650\n",
      "Epoch 53/100\n",
      "516/516 [==============================] - 1s 3ms/step - loss: 1238.9904 - mse: 1238.9904 - val_loss: 1288.2833 - val_mse: 1288.2833\n",
      "Epoch 54/100\n",
      "516/516 [==============================] - 2s 3ms/step - loss: 1233.9419 - mse: 1233.9419 - val_loss: 1278.8909 - val_mse: 1278.8909\n",
      "Epoch 55/100\n",
      "516/516 [==============================] - 1s 3ms/step - loss: 1235.9966 - mse: 1235.9966 - val_loss: 1280.7427 - val_mse: 1280.7427\n",
      "Epoch 56/100\n",
      "516/516 [==============================] - 1s 3ms/step - loss: 1233.7472 - mse: 1233.7472 - val_loss: 1300.0323 - val_mse: 1300.0323\n",
      "Epoch 57/100\n"
     ]
    },
    {
     "name": "stdout",
     "output_type": "stream",
     "text": [
      "516/516 [==============================] - 1s 3ms/step - loss: 1236.5314 - mse: 1236.5314 - val_loss: 1292.1935 - val_mse: 1292.1935\n",
      "Epoch 58/100\n",
      "516/516 [==============================] - 1s 3ms/step - loss: 1227.9811 - mse: 1227.9811 - val_loss: 1275.5054 - val_mse: 1275.5054\n",
      "Epoch 59/100\n",
      "516/516 [==============================] - 1s 3ms/step - loss: 1232.6404 - mse: 1232.6404 - val_loss: 1276.5061 - val_mse: 1276.5061\n",
      "Epoch 60/100\n",
      "516/516 [==============================] - 1s 3ms/step - loss: 1234.4939 - mse: 1234.4939 - val_loss: 1276.7249 - val_mse: 1276.7249\n",
      "Epoch 61/100\n",
      "516/516 [==============================] - 1s 3ms/step - loss: 1232.3198 - mse: 1232.3198 - val_loss: 1278.1317 - val_mse: 1278.1317\n",
      "Epoch 62/100\n",
      "516/516 [==============================] - 1s 3ms/step - loss: 1228.5966 - mse: 1228.5966 - val_loss: 1271.0807 - val_mse: 1271.0807\n",
      "Epoch 63/100\n",
      "516/516 [==============================] - 1s 3ms/step - loss: 1228.9852 - mse: 1228.9852 - val_loss: 1275.3292 - val_mse: 1275.3292\n",
      "Epoch 64/100\n",
      "516/516 [==============================] - 1s 3ms/step - loss: 1225.6523 - mse: 1225.6523 - val_loss: 1290.9733 - val_mse: 1290.9733\n",
      "Epoch 65/100\n",
      "516/516 [==============================] - 1s 3ms/step - loss: 1228.4467 - mse: 1228.4467 - val_loss: 1274.1947 - val_mse: 1274.1947\n",
      "Epoch 66/100\n",
      "516/516 [==============================] - 1s 3ms/step - loss: 1225.0184 - mse: 1225.0184 - val_loss: 1283.2897 - val_mse: 1283.2897\n",
      "Epoch 67/100\n",
      "516/516 [==============================] - 1s 3ms/step - loss: 1225.0029 - mse: 1225.0029 - val_loss: 1273.2405 - val_mse: 1273.2405\n",
      "Epoch 68/100\n",
      "516/516 [==============================] - 1s 3ms/step - loss: 1225.6263 - mse: 1225.6263 - val_loss: 1270.6676 - val_mse: 1270.6676\n",
      "Epoch 69/100\n",
      "516/516 [==============================] - 1s 3ms/step - loss: 1223.9873 - mse: 1223.9873 - val_loss: 1293.3541 - val_mse: 1293.3541\n",
      "Epoch 70/100\n",
      "516/516 [==============================] - 1s 3ms/step - loss: 1223.8260 - mse: 1223.8260 - val_loss: 1297.6993 - val_mse: 1297.6993\n",
      "Epoch 71/100\n",
      "516/516 [==============================] - 1s 3ms/step - loss: 1223.0554 - mse: 1223.0554 - val_loss: 1284.7128 - val_mse: 1284.7128\n",
      "Epoch 72/100\n",
      "516/516 [==============================] - 1s 3ms/step - loss: 1225.8779 - mse: 1225.8779 - val_loss: 1270.7198 - val_mse: 1270.7198\n",
      "Epoch 73/100\n",
      "516/516 [==============================] - 2s 3ms/step - loss: 1221.5286 - mse: 1221.5286 - val_loss: 1267.8207 - val_mse: 1267.8207\n",
      "Epoch 74/100\n",
      "516/516 [==============================] - 1s 3ms/step - loss: 1218.4753 - mse: 1218.4753 - val_loss: 1269.5139 - val_mse: 1269.5139\n",
      "Epoch 75/100\n",
      "516/516 [==============================] - 1s 3ms/step - loss: 1224.5151 - mse: 1224.5151 - val_loss: 1278.0823 - val_mse: 1278.0823\n",
      "Epoch 76/100\n",
      "516/516 [==============================] - 1s 3ms/step - loss: 1224.7611 - mse: 1224.7611 - val_loss: 1268.4746 - val_mse: 1268.4746\n",
      "Epoch 77/100\n",
      "516/516 [==============================] - 1s 3ms/step - loss: 1218.6171 - mse: 1218.6171 - val_loss: 1286.4897 - val_mse: 1286.4897\n",
      "Epoch 78/100\n",
      "516/516 [==============================] - 1s 3ms/step - loss: 1216.2750 - mse: 1216.2750 - val_loss: 1272.4827 - val_mse: 1272.4827\n",
      "Epoch 79/100\n",
      "516/516 [==============================] - 1s 3ms/step - loss: 1214.9141 - mse: 1214.9141 - val_loss: 1307.3567 - val_mse: 1307.3567\n",
      "Epoch 80/100\n",
      "516/516 [==============================] - 1s 3ms/step - loss: 1214.6605 - mse: 1214.6605 - val_loss: 1275.9364 - val_mse: 1275.9364\n",
      "Epoch 81/100\n",
      "516/516 [==============================] - 1s 3ms/step - loss: 1215.4147 - mse: 1215.4147 - val_loss: 1277.7531 - val_mse: 1277.7531\n",
      "Epoch 82/100\n",
      "516/516 [==============================] - 1s 3ms/step - loss: 1215.9031 - mse: 1215.9031 - val_loss: 1341.2036 - val_mse: 1341.2036\n",
      "Epoch 83/100\n",
      "516/516 [==============================] - 1s 3ms/step - loss: 1218.0105 - mse: 1218.0105 - val_loss: 1291.1932 - val_mse: 1291.1932\n",
      "Epoch 84/100\n",
      "516/516 [==============================] - 1s 3ms/step - loss: 1211.7750 - mse: 1211.7750 - val_loss: 1275.8862 - val_mse: 1275.8862\n",
      "Epoch 85/100\n",
      "516/516 [==============================] - 1s 3ms/step - loss: 1220.9358 - mse: 1220.9358 - val_loss: 1276.3539 - val_mse: 1276.3539\n",
      "Epoch 86/100\n",
      "516/516 [==============================] - 1s 3ms/step - loss: 1211.9360 - mse: 1211.9360 - val_loss: 1272.9807 - val_mse: 1272.9807\n",
      "Epoch 87/100\n",
      "516/516 [==============================] - 1s 3ms/step - loss: 1212.3553 - mse: 1212.3553 - val_loss: 1276.8146 - val_mse: 1276.8146\n",
      "Epoch 88/100\n",
      "516/516 [==============================] - 1s 3ms/step - loss: 1210.9269 - mse: 1210.9269 - val_loss: 1270.9052 - val_mse: 1270.9052\n",
      "Epoch 89/100\n",
      "516/516 [==============================] - 1s 3ms/step - loss: 1217.3405 - mse: 1217.3405 - val_loss: 1265.4102 - val_mse: 1265.4102\n",
      "Epoch 90/100\n",
      "516/516 [==============================] - 1s 3ms/step - loss: 1215.4417 - mse: 1215.4417 - val_loss: 1270.5520 - val_mse: 1270.5520\n",
      "Epoch 91/100\n",
      "516/516 [==============================] - 1s 3ms/step - loss: 1209.2050 - mse: 1209.2050 - val_loss: 1276.5551 - val_mse: 1276.5551\n",
      "Epoch 92/100\n",
      "516/516 [==============================] - 1s 3ms/step - loss: 1209.5845 - mse: 1209.5845 - val_loss: 1278.3948 - val_mse: 1278.3948\n",
      "Epoch 93/100\n",
      "516/516 [==============================] - 1s 3ms/step - loss: 1207.5704 - mse: 1207.5704 - val_loss: 1301.9299 - val_mse: 1301.9299\n",
      "Epoch 94/100\n",
      "516/516 [==============================] - 1s 3ms/step - loss: 1210.0582 - mse: 1210.0582 - val_loss: 1269.0314 - val_mse: 1269.0314\n",
      "Epoch 95/100\n",
      "516/516 [==============================] - 2s 3ms/step - loss: 1209.5167 - mse: 1209.5167 - val_loss: 1289.0544 - val_mse: 1289.0544\n",
      "Epoch 96/100\n",
      "516/516 [==============================] - 2s 3ms/step - loss: 1203.6531 - mse: 1203.6531 - val_loss: 1269.2140 - val_mse: 1269.2140\n",
      "Epoch 97/100\n",
      "516/516 [==============================] - 1s 3ms/step - loss: 1205.9366 - mse: 1205.9366 - val_loss: 1278.5648 - val_mse: 1278.5648\n",
      "Epoch 98/100\n",
      "516/516 [==============================] - 1s 3ms/step - loss: 1206.7396 - mse: 1206.7396 - val_loss: 1279.7333 - val_mse: 1279.7333\n",
      "Epoch 99/100\n",
      "516/516 [==============================] - 1s 3ms/step - loss: 1203.7811 - mse: 1203.7811 - val_loss: 1279.3352 - val_mse: 1279.3352\n",
      "Epoch 100/100\n",
      "516/516 [==============================] - 1s 3ms/step - loss: 1201.0446 - mse: 1201.0446 - val_loss: 1271.2428 - val_mse: 1271.2428\n"
     ]
    },
    {
     "data": {
      "text/plain": [
       "<keras.callbacks.History at 0x2c22bf20fa0>"
      ]
     },
     "execution_count": 80,
     "metadata": {},
     "output_type": "execute_result"
    }
   ],
   "source": [
    "model.fit(x=X_train,\n",
    "    y=y_train,\n",
    "    batch_size=32,\n",
    "    epochs=100,\n",
    "    verbose=1,\n",
    "    validation_data=(X_test,y_test))"
   ]
  },
  {
   "cell_type": "code",
   "execution_count": 81,
   "id": "d438353b",
   "metadata": {
    "scrolled": true
   },
   "outputs": [
    {
     "name": "stdout",
     "output_type": "stream",
     "text": [
      "129/129 [==============================] - 1s 2ms/step\n",
      "24.994978029848674\n",
      "1271.2430277193773\n",
      "0.7277772710858275\n"
     ]
    }
   ],
   "source": [
    "P35=model.predict(X_test)\n",
    "\n",
    "print(mean_absolute_error(y_test,P35))\n",
    "print(mean_squared_error(y_test,P35))\n",
    "print(r2_score(y_test,P35))"
   ]
  },
  {
   "cell_type": "markdown",
   "id": "032f0ce9",
   "metadata": {},
   "source": [
    "## Early Stopping"
   ]
  },
  {
   "cell_type": "code",
   "execution_count": 82,
   "id": "2637fee8",
   "metadata": {},
   "outputs": [],
   "source": [
    "model1 = Sequential()\n",
    "\n",
    "model1.add(Dense(15,activation='relu'))\n",
    "\n",
    "model1.add(Dense(14,activation='relu'))\n",
    "\n",
    "model1.add(Dense(14,activation='relu'))\n",
    "\n",
    "model1.add(Dense(14,activation='relu'))\n",
    "\n",
    "model1.add(Dense(12,activation='relu'))\n",
    "\n",
    "model1.add(Dense(10,activation='relu'))\n",
    "\n",
    "model1.add(Dense(6,activation='relu'))\n",
    "\n",
    "model1.add(Dense(1))\n",
    "\n",
    "model1.compile(loss='mse',optimizer='adam',metrics=['mse'])"
   ]
  },
  {
   "cell_type": "code",
   "execution_count": 83,
   "id": "9f1c484e",
   "metadata": {},
   "outputs": [],
   "source": [
    "early= EarlyStopping(monitor='val_loss',\n",
    "    patience=25,\n",
    "    mode='min')"
   ]
  },
  {
   "cell_type": "code",
   "execution_count": 84,
   "id": "08cffc80",
   "metadata": {
    "collapsed": true
   },
   "outputs": [
    {
     "name": "stdout",
     "output_type": "stream",
     "text": [
      "Epoch 1/600\n",
      "516/516 [==============================] - 3s 3ms/step - loss: 4658.7910 - mse: 4658.7910 - val_loss: 1481.6975 - val_mse: 1481.6975\n",
      "Epoch 2/600\n",
      "516/516 [==============================] - 1s 3ms/step - loss: 1395.4370 - mse: 1395.4370 - val_loss: 1419.3440 - val_mse: 1419.3440\n",
      "Epoch 3/600\n",
      "516/516 [==============================] - 1s 3ms/step - loss: 1350.9155 - mse: 1350.9155 - val_loss: 1378.3555 - val_mse: 1378.3555\n",
      "Epoch 4/600\n",
      "516/516 [==============================] - 1s 3ms/step - loss: 1334.5988 - mse: 1334.5988 - val_loss: 1356.7250 - val_mse: 1356.7250\n",
      "Epoch 5/600\n",
      "516/516 [==============================] - 1s 3ms/step - loss: 1318.9834 - mse: 1318.9834 - val_loss: 1365.5325 - val_mse: 1365.5325\n",
      "Epoch 6/600\n",
      "516/516 [==============================] - 1s 3ms/step - loss: 1310.3461 - mse: 1310.3461 - val_loss: 1362.6132 - val_mse: 1362.6132\n",
      "Epoch 7/600\n",
      "516/516 [==============================] - 1s 3ms/step - loss: 1303.6964 - mse: 1303.6964 - val_loss: 1338.0874 - val_mse: 1338.0874\n",
      "Epoch 8/600\n",
      "516/516 [==============================] - 1s 3ms/step - loss: 1298.1112 - mse: 1298.1112 - val_loss: 1342.8071 - val_mse: 1342.8071\n",
      "Epoch 9/600\n",
      "516/516 [==============================] - 1s 3ms/step - loss: 1293.9460 - mse: 1293.9460 - val_loss: 1340.2871 - val_mse: 1340.2871\n",
      "Epoch 10/600\n",
      "516/516 [==============================] - 1s 3ms/step - loss: 1293.7465 - mse: 1293.7465 - val_loss: 1325.5142 - val_mse: 1325.5142\n",
      "Epoch 11/600\n",
      "516/516 [==============================] - 1s 3ms/step - loss: 1288.9120 - mse: 1288.9120 - val_loss: 1338.3922 - val_mse: 1338.3922\n",
      "Epoch 12/600\n",
      "516/516 [==============================] - 1s 3ms/step - loss: 1292.4886 - mse: 1292.4886 - val_loss: 1325.1075 - val_mse: 1325.1075\n",
      "Epoch 13/600\n",
      "516/516 [==============================] - 1s 3ms/step - loss: 1284.8572 - mse: 1284.8572 - val_loss: 1319.1145 - val_mse: 1319.1145\n",
      "Epoch 14/600\n",
      "516/516 [==============================] - 1s 3ms/step - loss: 1284.8431 - mse: 1284.8431 - val_loss: 1330.7744 - val_mse: 1330.7744\n",
      "Epoch 15/600\n",
      "516/516 [==============================] - 1s 3ms/step - loss: 1279.8068 - mse: 1279.8068 - val_loss: 1314.0317 - val_mse: 1314.0317\n",
      "Epoch 16/600\n",
      "516/516 [==============================] - 1s 3ms/step - loss: 1280.8073 - mse: 1280.8073 - val_loss: 1320.8207 - val_mse: 1320.8207\n",
      "Epoch 17/600\n",
      "516/516 [==============================] - 1s 3ms/step - loss: 1279.5424 - mse: 1279.5424 - val_loss: 1309.9332 - val_mse: 1309.9332\n",
      "Epoch 18/600\n",
      "516/516 [==============================] - 1s 3ms/step - loss: 1277.0854 - mse: 1277.0854 - val_loss: 1315.8741 - val_mse: 1315.8741\n",
      "Epoch 19/600\n",
      "516/516 [==============================] - 2s 3ms/step - loss: 1278.0605 - mse: 1278.0605 - val_loss: 1328.1449 - val_mse: 1328.1449\n",
      "Epoch 20/600\n",
      "516/516 [==============================] - 2s 3ms/step - loss: 1275.4779 - mse: 1275.4779 - val_loss: 1322.6096 - val_mse: 1322.6096\n",
      "Epoch 21/600\n",
      "516/516 [==============================] - 2s 3ms/step - loss: 1280.1892 - mse: 1280.1892 - val_loss: 1318.0183 - val_mse: 1318.0183\n",
      "Epoch 22/600\n",
      "516/516 [==============================] - 1s 3ms/step - loss: 1274.0199 - mse: 1274.0199 - val_loss: 1313.7340 - val_mse: 1313.7340\n",
      "Epoch 23/600\n",
      "516/516 [==============================] - 1s 3ms/step - loss: 1273.4819 - mse: 1273.4819 - val_loss: 1309.0048 - val_mse: 1309.0048\n",
      "Epoch 24/600\n",
      "516/516 [==============================] - 2s 3ms/step - loss: 1270.0939 - mse: 1270.0939 - val_loss: 1306.6432 - val_mse: 1306.6432\n",
      "Epoch 25/600\n",
      "516/516 [==============================] - 1s 3ms/step - loss: 1274.5753 - mse: 1274.5753 - val_loss: 1309.3094 - val_mse: 1309.3094\n",
      "Epoch 26/600\n",
      "516/516 [==============================] - 2s 3ms/step - loss: 1271.7544 - mse: 1271.7544 - val_loss: 1305.7661 - val_mse: 1305.7661\n",
      "Epoch 27/600\n",
      "516/516 [==============================] - 2s 3ms/step - loss: 1266.6224 - mse: 1266.6224 - val_loss: 1307.0403 - val_mse: 1307.0403\n",
      "Epoch 28/600\n",
      "516/516 [==============================] - 2s 3ms/step - loss: 1267.0914 - mse: 1267.0914 - val_loss: 1316.0035 - val_mse: 1316.0035\n",
      "Epoch 29/600\n",
      "516/516 [==============================] - 1s 3ms/step - loss: 1262.6783 - mse: 1262.6783 - val_loss: 1353.8578 - val_mse: 1353.8578\n",
      "Epoch 30/600\n",
      "516/516 [==============================] - 1s 3ms/step - loss: 1267.8314 - mse: 1267.8314 - val_loss: 1313.4834 - val_mse: 1313.4834\n",
      "Epoch 31/600\n",
      "516/516 [==============================] - 1s 3ms/step - loss: 1263.8320 - mse: 1263.8320 - val_loss: 1333.9291 - val_mse: 1333.9291\n",
      "Epoch 32/600\n",
      "516/516 [==============================] - 1s 3ms/step - loss: 1258.0680 - mse: 1258.0680 - val_loss: 1305.4447 - val_mse: 1305.4447\n",
      "Epoch 33/600\n",
      "516/516 [==============================] - 1s 3ms/step - loss: 1258.0321 - mse: 1258.0321 - val_loss: 1302.3917 - val_mse: 1302.3917\n",
      "Epoch 34/600\n",
      "516/516 [==============================] - 1s 3ms/step - loss: 1259.7330 - mse: 1259.7330 - val_loss: 1295.8002 - val_mse: 1295.8002\n",
      "Epoch 35/600\n",
      "516/516 [==============================] - 1s 3ms/step - loss: 1264.0090 - mse: 1264.0090 - val_loss: 1301.6687 - val_mse: 1301.6687\n",
      "Epoch 36/600\n",
      "516/516 [==============================] - 1s 3ms/step - loss: 1256.8037 - mse: 1256.8037 - val_loss: 1295.4214 - val_mse: 1295.4214\n",
      "Epoch 37/600\n",
      "516/516 [==============================] - 1s 3ms/step - loss: 1253.5591 - mse: 1253.5591 - val_loss: 1311.6405 - val_mse: 1311.6405\n",
      "Epoch 38/600\n",
      "516/516 [==============================] - 2s 3ms/step - loss: 1258.5394 - mse: 1258.5394 - val_loss: 1324.3486 - val_mse: 1324.3486\n",
      "Epoch 39/600\n",
      "516/516 [==============================] - 2s 3ms/step - loss: 1259.1003 - mse: 1259.1003 - val_loss: 1289.0189 - val_mse: 1289.0189\n",
      "Epoch 40/600\n",
      "516/516 [==============================] - 1s 3ms/step - loss: 1252.6881 - mse: 1252.6881 - val_loss: 1289.2865 - val_mse: 1289.2865\n",
      "Epoch 41/600\n",
      "516/516 [==============================] - 1s 3ms/step - loss: 1251.5623 - mse: 1251.5623 - val_loss: 1295.9795 - val_mse: 1295.9795\n",
      "Epoch 42/600\n",
      "516/516 [==============================] - 1s 3ms/step - loss: 1250.2648 - mse: 1250.2648 - val_loss: 1302.0167 - val_mse: 1302.0167\n",
      "Epoch 43/600\n",
      "516/516 [==============================] - 1s 3ms/step - loss: 1250.5359 - mse: 1250.5359 - val_loss: 1291.4786 - val_mse: 1291.4786\n",
      "Epoch 44/600\n",
      "516/516 [==============================] - 1s 3ms/step - loss: 1246.9940 - mse: 1246.9940 - val_loss: 1286.4756 - val_mse: 1286.4756\n",
      "Epoch 45/600\n",
      "516/516 [==============================] - 2s 3ms/step - loss: 1248.9032 - mse: 1248.9032 - val_loss: 1289.0629 - val_mse: 1289.0629\n",
      "Epoch 46/600\n",
      "516/516 [==============================] - 2s 3ms/step - loss: 1247.8037 - mse: 1247.8037 - val_loss: 1279.8844 - val_mse: 1279.8844\n",
      "Epoch 47/600\n",
      "516/516 [==============================] - 1s 3ms/step - loss: 1251.0829 - mse: 1251.0829 - val_loss: 1301.0065 - val_mse: 1301.0065\n",
      "Epoch 48/600\n",
      "516/516 [==============================] - 2s 3ms/step - loss: 1242.2145 - mse: 1242.2145 - val_loss: 1304.6949 - val_mse: 1304.6949\n",
      "Epoch 49/600\n",
      "516/516 [==============================] - 1s 3ms/step - loss: 1247.1382 - mse: 1247.1382 - val_loss: 1285.5164 - val_mse: 1285.5164\n",
      "Epoch 50/600\n",
      "516/516 [==============================] - 1s 3ms/step - loss: 1241.5961 - mse: 1241.5961 - val_loss: 1282.8937 - val_mse: 1282.8937\n",
      "Epoch 51/600\n",
      "516/516 [==============================] - 2s 3ms/step - loss: 1246.1049 - mse: 1246.1049 - val_loss: 1284.6261 - val_mse: 1284.6261\n",
      "Epoch 52/600\n",
      "516/516 [==============================] - 2s 3ms/step - loss: 1240.4431 - mse: 1240.4431 - val_loss: 1279.2717 - val_mse: 1279.2717\n",
      "Epoch 53/600\n",
      "516/516 [==============================] - 1s 3ms/step - loss: 1246.2487 - mse: 1246.2487 - val_loss: 1281.0549 - val_mse: 1281.0549\n",
      "Epoch 54/600\n",
      "516/516 [==============================] - 1s 3ms/step - loss: 1240.0206 - mse: 1240.0206 - val_loss: 1333.9707 - val_mse: 1333.9707\n",
      "Epoch 55/600\n",
      "516/516 [==============================] - 1s 3ms/step - loss: 1243.1226 - mse: 1243.1226 - val_loss: 1279.9491 - val_mse: 1279.9491\n",
      "Epoch 56/600\n",
      "516/516 [==============================] - 1s 3ms/step - loss: 1247.7883 - mse: 1247.7883 - val_loss: 1279.3405 - val_mse: 1279.3405\n",
      "Epoch 57/600\n"
     ]
    },
    {
     "name": "stdout",
     "output_type": "stream",
     "text": [
      "516/516 [==============================] - 1s 3ms/step - loss: 1237.1802 - mse: 1237.1802 - val_loss: 1279.9908 - val_mse: 1279.9908\n",
      "Epoch 58/600\n",
      "516/516 [==============================] - 2s 3ms/step - loss: 1241.3241 - mse: 1241.3241 - val_loss: 1278.8864 - val_mse: 1278.8864\n",
      "Epoch 59/600\n",
      "516/516 [==============================] - 1s 3ms/step - loss: 1239.0205 - mse: 1239.0205 - val_loss: 1282.1287 - val_mse: 1282.1287\n",
      "Epoch 60/600\n",
      "516/516 [==============================] - 1s 3ms/step - loss: 1238.2275 - mse: 1238.2275 - val_loss: 1282.2533 - val_mse: 1282.2533\n",
      "Epoch 61/600\n",
      "516/516 [==============================] - 1s 3ms/step - loss: 1238.2772 - mse: 1238.2772 - val_loss: 1279.7974 - val_mse: 1279.7974\n",
      "Epoch 62/600\n",
      "516/516 [==============================] - 1s 3ms/step - loss: 1239.5029 - mse: 1239.5029 - val_loss: 1294.2321 - val_mse: 1294.2321\n",
      "Epoch 63/600\n",
      "516/516 [==============================] - 1s 3ms/step - loss: 1242.7137 - mse: 1242.7137 - val_loss: 1278.0938 - val_mse: 1278.0938\n",
      "Epoch 64/600\n",
      "516/516 [==============================] - 1s 3ms/step - loss: 1240.6351 - mse: 1240.6351 - val_loss: 1283.2168 - val_mse: 1283.2168\n",
      "Epoch 65/600\n",
      "516/516 [==============================] - 1s 3ms/step - loss: 1236.1245 - mse: 1236.1245 - val_loss: 1276.7374 - val_mse: 1276.7374\n",
      "Epoch 66/600\n",
      "516/516 [==============================] - 1s 3ms/step - loss: 1238.9083 - mse: 1238.9083 - val_loss: 1281.9388 - val_mse: 1281.9388\n",
      "Epoch 67/600\n",
      "516/516 [==============================] - 1s 3ms/step - loss: 1235.8120 - mse: 1235.8120 - val_loss: 1321.8894 - val_mse: 1321.8894\n",
      "Epoch 68/600\n",
      "516/516 [==============================] - 1s 3ms/step - loss: 1229.5802 - mse: 1229.5802 - val_loss: 1278.4318 - val_mse: 1278.4318\n",
      "Epoch 69/600\n",
      "516/516 [==============================] - 1s 3ms/step - loss: 1233.3754 - mse: 1233.3754 - val_loss: 1274.5719 - val_mse: 1274.5719\n",
      "Epoch 70/600\n",
      "516/516 [==============================] - 1s 3ms/step - loss: 1235.8572 - mse: 1235.8572 - val_loss: 1275.5436 - val_mse: 1275.5436\n",
      "Epoch 71/600\n",
      "516/516 [==============================] - 2s 3ms/step - loss: 1234.3741 - mse: 1234.3741 - val_loss: 1284.6700 - val_mse: 1284.6700\n",
      "Epoch 72/600\n",
      "516/516 [==============================] - 2s 3ms/step - loss: 1230.5262 - mse: 1230.5262 - val_loss: 1295.1267 - val_mse: 1295.1267\n",
      "Epoch 73/600\n",
      "516/516 [==============================] - 2s 3ms/step - loss: 1235.9674 - mse: 1235.9674 - val_loss: 1275.1992 - val_mse: 1275.1992\n",
      "Epoch 74/600\n",
      "516/516 [==============================] - 1s 3ms/step - loss: 1234.4221 - mse: 1234.4221 - val_loss: 1276.3374 - val_mse: 1276.3374\n",
      "Epoch 75/600\n",
      "516/516 [==============================] - 1s 3ms/step - loss: 1231.6100 - mse: 1231.6100 - val_loss: 1276.6333 - val_mse: 1276.6333\n",
      "Epoch 76/600\n",
      "516/516 [==============================] - 1s 3ms/step - loss: 1230.7983 - mse: 1230.7983 - val_loss: 1298.1270 - val_mse: 1298.1270\n",
      "Epoch 77/600\n",
      "516/516 [==============================] - 1s 3ms/step - loss: 1230.1643 - mse: 1230.1643 - val_loss: 1278.1084 - val_mse: 1278.1084\n",
      "Epoch 78/600\n",
      "516/516 [==============================] - 1s 3ms/step - loss: 1232.2319 - mse: 1232.2319 - val_loss: 1273.5594 - val_mse: 1273.5594\n",
      "Epoch 79/600\n",
      "516/516 [==============================] - 1s 3ms/step - loss: 1232.2653 - mse: 1232.2653 - val_loss: 1287.7655 - val_mse: 1287.7655\n",
      "Epoch 80/600\n",
      "516/516 [==============================] - 2s 3ms/step - loss: 1233.2847 - mse: 1233.2847 - val_loss: 1300.5087 - val_mse: 1300.5087\n",
      "Epoch 81/600\n",
      "516/516 [==============================] - 1s 3ms/step - loss: 1231.0015 - mse: 1231.0015 - val_loss: 1270.2971 - val_mse: 1270.2971\n",
      "Epoch 82/600\n",
      "516/516 [==============================] - 1s 3ms/step - loss: 1228.1124 - mse: 1228.1124 - val_loss: 1278.8273 - val_mse: 1278.8273\n",
      "Epoch 83/600\n",
      "516/516 [==============================] - 1s 3ms/step - loss: 1231.9797 - mse: 1231.9797 - val_loss: 1300.1118 - val_mse: 1300.1118\n",
      "Epoch 84/600\n",
      "516/516 [==============================] - 1s 3ms/step - loss: 1232.0405 - mse: 1232.0405 - val_loss: 1270.7942 - val_mse: 1270.7942\n",
      "Epoch 85/600\n",
      "516/516 [==============================] - 1s 3ms/step - loss: 1229.0883 - mse: 1229.0883 - val_loss: 1271.2693 - val_mse: 1271.2693\n",
      "Epoch 86/600\n",
      "516/516 [==============================] - 1s 3ms/step - loss: 1224.1302 - mse: 1224.1302 - val_loss: 1275.8678 - val_mse: 1275.8678\n",
      "Epoch 87/600\n",
      "516/516 [==============================] - 2s 3ms/step - loss: 1228.3335 - mse: 1228.3335 - val_loss: 1290.2346 - val_mse: 1290.2346\n",
      "Epoch 88/600\n",
      "516/516 [==============================] - 2s 3ms/step - loss: 1229.6133 - mse: 1229.6133 - val_loss: 1266.3154 - val_mse: 1266.3154\n",
      "Epoch 89/600\n",
      "516/516 [==============================] - 1s 3ms/step - loss: 1221.4473 - mse: 1221.4473 - val_loss: 1267.7596 - val_mse: 1267.7596\n",
      "Epoch 90/600\n",
      "516/516 [==============================] - 2s 3ms/step - loss: 1224.0259 - mse: 1224.0259 - val_loss: 1269.5065 - val_mse: 1269.5065\n",
      "Epoch 91/600\n",
      "516/516 [==============================] - 2s 3ms/step - loss: 1225.1915 - mse: 1225.1915 - val_loss: 1273.8978 - val_mse: 1273.8978\n",
      "Epoch 92/600\n",
      "516/516 [==============================] - 2s 3ms/step - loss: 1223.7621 - mse: 1223.7621 - val_loss: 1271.3568 - val_mse: 1271.3568\n",
      "Epoch 93/600\n",
      "516/516 [==============================] - 2s 3ms/step - loss: 1222.1948 - mse: 1222.1948 - val_loss: 1312.2286 - val_mse: 1312.2286\n",
      "Epoch 94/600\n",
      "516/516 [==============================] - 2s 3ms/step - loss: 1226.7178 - mse: 1226.7178 - val_loss: 1263.6437 - val_mse: 1263.6437\n",
      "Epoch 95/600\n",
      "516/516 [==============================] - 2s 3ms/step - loss: 1221.6692 - mse: 1221.6692 - val_loss: 1268.2037 - val_mse: 1268.2037\n",
      "Epoch 96/600\n",
      "516/516 [==============================] - 2s 3ms/step - loss: 1229.8052 - mse: 1229.8052 - val_loss: 1264.1561 - val_mse: 1264.1561\n",
      "Epoch 97/600\n",
      "516/516 [==============================] - 1s 3ms/step - loss: 1229.5317 - mse: 1229.5317 - val_loss: 1267.2250 - val_mse: 1267.2250\n",
      "Epoch 98/600\n",
      "516/516 [==============================] - 1s 2ms/step - loss: 1222.1389 - mse: 1222.1389 - val_loss: 1271.1836 - val_mse: 1271.1836\n",
      "Epoch 99/600\n",
      "516/516 [==============================] - 1s 3ms/step - loss: 1220.0704 - mse: 1220.0704 - val_loss: 1265.2781 - val_mse: 1265.2781\n",
      "Epoch 100/600\n",
      "516/516 [==============================] - 1s 2ms/step - loss: 1217.6061 - mse: 1217.6061 - val_loss: 1275.1680 - val_mse: 1275.1680\n",
      "Epoch 101/600\n",
      "516/516 [==============================] - 1s 3ms/step - loss: 1219.7461 - mse: 1219.7461 - val_loss: 1274.8844 - val_mse: 1274.8844\n",
      "Epoch 102/600\n",
      "516/516 [==============================] - 1s 3ms/step - loss: 1217.3838 - mse: 1217.3838 - val_loss: 1264.7253 - val_mse: 1264.7253\n",
      "Epoch 103/600\n",
      "516/516 [==============================] - 1s 3ms/step - loss: 1220.8069 - mse: 1220.8069 - val_loss: 1340.0465 - val_mse: 1340.0465\n",
      "Epoch 104/600\n",
      "516/516 [==============================] - 1s 3ms/step - loss: 1217.0994 - mse: 1217.0994 - val_loss: 1306.5461 - val_mse: 1306.5461\n",
      "Epoch 105/600\n",
      "516/516 [==============================] - 1s 2ms/step - loss: 1221.2159 - mse: 1221.2159 - val_loss: 1277.6660 - val_mse: 1277.6660\n",
      "Epoch 106/600\n",
      "516/516 [==============================] - 2s 3ms/step - loss: 1218.9033 - mse: 1218.9033 - val_loss: 1264.1125 - val_mse: 1264.1125\n",
      "Epoch 107/600\n",
      "516/516 [==============================] - 1s 3ms/step - loss: 1214.0221 - mse: 1214.0221 - val_loss: 1267.5698 - val_mse: 1267.5698\n",
      "Epoch 108/600\n",
      "516/516 [==============================] - 2s 3ms/step - loss: 1219.2957 - mse: 1219.2957 - val_loss: 1277.2097 - val_mse: 1277.2097\n",
      "Epoch 109/600\n",
      "516/516 [==============================] - 2s 3ms/step - loss: 1219.9277 - mse: 1219.9277 - val_loss: 1259.0646 - val_mse: 1259.0646\n",
      "Epoch 110/600\n",
      "516/516 [==============================] - 1s 3ms/step - loss: 1218.0046 - mse: 1218.0046 - val_loss: 1269.1208 - val_mse: 1269.1208\n",
      "Epoch 111/600\n",
      "516/516 [==============================] - 1s 3ms/step - loss: 1219.4862 - mse: 1219.4862 - val_loss: 1269.8278 - val_mse: 1269.8278\n",
      "Epoch 112/600\n",
      "516/516 [==============================] - 1s 3ms/step - loss: 1216.1305 - mse: 1216.1305 - val_loss: 1258.1768 - val_mse: 1258.1768\n",
      "Epoch 113/600\n"
     ]
    },
    {
     "name": "stdout",
     "output_type": "stream",
     "text": [
      "516/516 [==============================] - 1s 3ms/step - loss: 1213.3289 - mse: 1213.3289 - val_loss: 1276.8458 - val_mse: 1276.8458\n",
      "Epoch 114/600\n",
      "516/516 [==============================] - 1s 3ms/step - loss: 1217.5220 - mse: 1217.5220 - val_loss: 1268.5474 - val_mse: 1268.5474\n",
      "Epoch 115/600\n",
      "516/516 [==============================] - 1s 3ms/step - loss: 1213.9335 - mse: 1213.9335 - val_loss: 1262.4209 - val_mse: 1262.4209\n",
      "Epoch 116/600\n",
      "516/516 [==============================] - 2s 3ms/step - loss: 1210.9830 - mse: 1210.9830 - val_loss: 1258.5168 - val_mse: 1258.5168\n",
      "Epoch 117/600\n",
      "516/516 [==============================] - 2s 4ms/step - loss: 1217.2660 - mse: 1217.2660 - val_loss: 1262.8333 - val_mse: 1262.8333\n",
      "Epoch 118/600\n",
      "516/516 [==============================] - 2s 4ms/step - loss: 1209.2698 - mse: 1209.2698 - val_loss: 1264.1368 - val_mse: 1264.1368\n",
      "Epoch 119/600\n",
      "516/516 [==============================] - 1s 3ms/step - loss: 1211.9955 - mse: 1211.9955 - val_loss: 1272.8340 - val_mse: 1272.8340\n",
      "Epoch 120/600\n",
      "516/516 [==============================] - 2s 3ms/step - loss: 1215.0793 - mse: 1215.0793 - val_loss: 1280.2137 - val_mse: 1280.2137\n",
      "Epoch 121/600\n",
      "516/516 [==============================] - 1s 3ms/step - loss: 1212.2614 - mse: 1212.2614 - val_loss: 1297.1479 - val_mse: 1297.1479\n",
      "Epoch 122/600\n",
      "516/516 [==============================] - 2s 3ms/step - loss: 1212.1873 - mse: 1212.1873 - val_loss: 1271.0743 - val_mse: 1271.0743\n",
      "Epoch 123/600\n",
      "516/516 [==============================] - 1s 3ms/step - loss: 1211.6306 - mse: 1211.6306 - val_loss: 1261.3966 - val_mse: 1261.3966\n",
      "Epoch 124/600\n",
      "516/516 [==============================] - 1s 3ms/step - loss: 1212.2974 - mse: 1212.2974 - val_loss: 1260.1355 - val_mse: 1260.1355\n",
      "Epoch 125/600\n",
      "516/516 [==============================] - 1s 3ms/step - loss: 1209.9723 - mse: 1209.9723 - val_loss: 1256.7551 - val_mse: 1256.7551\n",
      "Epoch 126/600\n",
      "516/516 [==============================] - 1s 3ms/step - loss: 1211.4233 - mse: 1211.4233 - val_loss: 1305.9475 - val_mse: 1305.9475\n",
      "Epoch 127/600\n",
      "516/516 [==============================] - 1s 3ms/step - loss: 1208.2174 - mse: 1208.2174 - val_loss: 1258.7518 - val_mse: 1258.7518\n",
      "Epoch 128/600\n",
      "516/516 [==============================] - 1s 3ms/step - loss: 1209.5505 - mse: 1209.5505 - val_loss: 1260.0752 - val_mse: 1260.0752\n",
      "Epoch 129/600\n",
      "516/516 [==============================] - 2s 3ms/step - loss: 1212.3093 - mse: 1212.3093 - val_loss: 1258.9839 - val_mse: 1258.9839\n",
      "Epoch 130/600\n",
      "516/516 [==============================] - 2s 3ms/step - loss: 1207.1512 - mse: 1207.1512 - val_loss: 1263.3447 - val_mse: 1263.3447\n",
      "Epoch 131/600\n",
      "516/516 [==============================] - 1s 3ms/step - loss: 1213.0018 - mse: 1213.0018 - val_loss: 1253.9362 - val_mse: 1253.9362\n",
      "Epoch 132/600\n",
      "516/516 [==============================] - 1s 3ms/step - loss: 1208.1090 - mse: 1208.1090 - val_loss: 1255.7006 - val_mse: 1255.7006\n",
      "Epoch 133/600\n",
      "516/516 [==============================] - 2s 3ms/step - loss: 1207.0680 - mse: 1207.0680 - val_loss: 1267.0168 - val_mse: 1267.0168\n",
      "Epoch 134/600\n",
      "516/516 [==============================] - 2s 3ms/step - loss: 1208.0917 - mse: 1208.0917 - val_loss: 1256.5150 - val_mse: 1256.5150\n",
      "Epoch 135/600\n",
      "516/516 [==============================] - 2s 3ms/step - loss: 1209.2100 - mse: 1209.2100 - val_loss: 1261.0688 - val_mse: 1261.0688\n",
      "Epoch 136/600\n",
      "516/516 [==============================] - 1s 3ms/step - loss: 1208.6354 - mse: 1208.6354 - val_loss: 1286.3895 - val_mse: 1286.3895\n",
      "Epoch 137/600\n",
      "516/516 [==============================] - 1s 3ms/step - loss: 1206.6021 - mse: 1206.6021 - val_loss: 1258.1703 - val_mse: 1258.1703\n",
      "Epoch 138/600\n",
      "516/516 [==============================] - 1s 3ms/step - loss: 1203.8917 - mse: 1203.8917 - val_loss: 1270.5503 - val_mse: 1270.5503\n",
      "Epoch 139/600\n",
      "516/516 [==============================] - 1s 3ms/step - loss: 1204.8405 - mse: 1204.8405 - val_loss: 1282.8563 - val_mse: 1282.8563\n",
      "Epoch 140/600\n",
      "516/516 [==============================] - 2s 3ms/step - loss: 1206.1146 - mse: 1206.1146 - val_loss: 1266.6228 - val_mse: 1266.6228\n",
      "Epoch 141/600\n",
      "516/516 [==============================] - 1s 3ms/step - loss: 1205.5190 - mse: 1205.5190 - val_loss: 1282.4685 - val_mse: 1282.4685\n",
      "Epoch 142/600\n",
      "516/516 [==============================] - 1s 3ms/step - loss: 1204.1083 - mse: 1204.1083 - val_loss: 1266.1274 - val_mse: 1266.1274\n",
      "Epoch 143/600\n",
      "516/516 [==============================] - 2s 3ms/step - loss: 1204.9635 - mse: 1204.9635 - val_loss: 1251.8900 - val_mse: 1251.8900\n",
      "Epoch 144/600\n",
      "516/516 [==============================] - 2s 3ms/step - loss: 1204.2556 - mse: 1204.2556 - val_loss: 1260.9513 - val_mse: 1260.9513\n",
      "Epoch 145/600\n",
      "516/516 [==============================] - 1s 3ms/step - loss: 1205.5848 - mse: 1205.5848 - val_loss: 1274.3187 - val_mse: 1274.3187\n",
      "Epoch 146/600\n",
      "516/516 [==============================] - 1s 3ms/step - loss: 1200.4873 - mse: 1200.4873 - val_loss: 1269.7131 - val_mse: 1269.7131\n",
      "Epoch 147/600\n",
      "516/516 [==============================] - 1s 3ms/step - loss: 1202.3674 - mse: 1202.3674 - val_loss: 1260.5433 - val_mse: 1260.5433\n",
      "Epoch 148/600\n",
      "516/516 [==============================] - 1s 3ms/step - loss: 1206.0245 - mse: 1206.0245 - val_loss: 1323.1788 - val_mse: 1323.1788\n",
      "Epoch 149/600\n",
      "516/516 [==============================] - 2s 3ms/step - loss: 1204.2397 - mse: 1204.2397 - val_loss: 1291.9105 - val_mse: 1291.9105\n",
      "Epoch 150/600\n",
      "516/516 [==============================] - 2s 3ms/step - loss: 1202.5375 - mse: 1202.5375 - val_loss: 1256.8911 - val_mse: 1256.8911\n",
      "Epoch 151/600\n",
      "516/516 [==============================] - 2s 3ms/step - loss: 1201.0714 - mse: 1201.0714 - val_loss: 1256.1978 - val_mse: 1256.1978\n",
      "Epoch 152/600\n",
      "516/516 [==============================] - 1s 3ms/step - loss: 1202.7625 - mse: 1202.7625 - val_loss: 1255.0540 - val_mse: 1255.0540\n",
      "Epoch 153/600\n",
      "516/516 [==============================] - 2s 3ms/step - loss: 1201.5410 - mse: 1201.5410 - val_loss: 1287.8372 - val_mse: 1287.8372\n",
      "Epoch 154/600\n",
      "516/516 [==============================] - 1s 3ms/step - loss: 1199.5397 - mse: 1199.5397 - val_loss: 1255.4963 - val_mse: 1255.4963\n",
      "Epoch 155/600\n",
      "516/516 [==============================] - 1s 3ms/step - loss: 1198.8933 - mse: 1198.8933 - val_loss: 1267.7747 - val_mse: 1267.7747\n",
      "Epoch 156/600\n",
      "516/516 [==============================] - 1s 3ms/step - loss: 1197.3175 - mse: 1197.3175 - val_loss: 1273.5525 - val_mse: 1273.5525\n",
      "Epoch 157/600\n",
      "516/516 [==============================] - 1s 3ms/step - loss: 1200.0277 - mse: 1200.0277 - val_loss: 1260.8506 - val_mse: 1260.8506\n",
      "Epoch 158/600\n",
      "516/516 [==============================] - 1s 3ms/step - loss: 1197.2014 - mse: 1197.2014 - val_loss: 1289.1835 - val_mse: 1289.1835\n",
      "Epoch 159/600\n",
      "516/516 [==============================] - 1s 3ms/step - loss: 1199.1663 - mse: 1199.1663 - val_loss: 1259.8014 - val_mse: 1259.8014\n",
      "Epoch 160/600\n",
      "516/516 [==============================] - 1s 3ms/step - loss: 1200.5913 - mse: 1200.5913 - val_loss: 1259.7560 - val_mse: 1259.7560\n",
      "Epoch 161/600\n",
      "516/516 [==============================] - 2s 3ms/step - loss: 1202.2819 - mse: 1202.2819 - val_loss: 1284.5626 - val_mse: 1284.5626\n",
      "Epoch 162/600\n",
      "516/516 [==============================] - 2s 3ms/step - loss: 1196.9318 - mse: 1196.9318 - val_loss: 1349.2653 - val_mse: 1349.2653\n",
      "Epoch 163/600\n",
      "516/516 [==============================] - 2s 3ms/step - loss: 1211.3824 - mse: 1211.3824 - val_loss: 1258.1715 - val_mse: 1258.1715\n",
      "Epoch 164/600\n",
      "516/516 [==============================] - 1s 3ms/step - loss: 1196.4625 - mse: 1196.4625 - val_loss: 1266.3807 - val_mse: 1266.3807\n",
      "Epoch 165/600\n",
      "516/516 [==============================] - 1s 3ms/step - loss: 1201.4165 - mse: 1201.4165 - val_loss: 1259.3560 - val_mse: 1259.3560\n",
      "Epoch 166/600\n",
      "516/516 [==============================] - 2s 3ms/step - loss: 1196.1383 - mse: 1196.1383 - val_loss: 1255.2836 - val_mse: 1255.2836\n",
      "Epoch 167/600\n",
      "516/516 [==============================] - 1s 3ms/step - loss: 1200.7543 - mse: 1200.7543 - val_loss: 1259.6991 - val_mse: 1259.6991\n",
      "Epoch 168/600\n",
      "516/516 [==============================] - 1s 3ms/step - loss: 1198.9192 - mse: 1198.9192 - val_loss: 1279.8724 - val_mse: 1279.8724\n"
     ]
    },
    {
     "data": {
      "text/plain": [
       "<keras.callbacks.History at 0x2c22ce3b1c0>"
      ]
     },
     "execution_count": 84,
     "metadata": {},
     "output_type": "execute_result"
    }
   ],
   "source": [
    "model1.fit(x=X_train,\n",
    "    y=y_train,\n",
    "    batch_size=32,\n",
    "    epochs=600,\n",
    "    verbose=1,\n",
    "    validation_data=(X_test,y_test),callbacks=[early])"
   ]
  },
  {
   "cell_type": "code",
   "execution_count": 85,
   "id": "d6e70022",
   "metadata": {
    "scrolled": false
   },
   "outputs": [
    {
     "name": "stdout",
     "output_type": "stream",
     "text": [
      "129/129 [==============================] - 0s 2ms/step\n",
      "24.3880472165752\n",
      "1279.8724529346903\n",
      "0.7259293744760913\n"
     ]
    }
   ],
   "source": [
    "P36=model1.predict(X_test)\n",
    "\n",
    "print(mean_absolute_error(y_test,P36))\n",
    "print(mean_squared_error(y_test,P36))\n",
    "print(r2_score(y_test,P36))"
   ]
  },
  {
   "cell_type": "code",
   "execution_count": 87,
   "id": "8bc2a17f",
   "metadata": {},
   "outputs": [
    {
     "data": {
      "text/plain": [
       "0.7260110672516586"
      ]
     },
     "execution_count": 87,
     "metadata": {},
     "output_type": "execute_result"
    }
   ],
   "source": [
    "accuracy=r2_score(y_test,P17)\n",
    "accuracy"
   ]
  },
  {
   "cell_type": "code",
   "execution_count": 91,
   "id": "e75fe4be",
   "metadata": {},
   "outputs": [
    {
     "data": {
      "text/plain": [
       "7980    61\n",
       "Name: No_of_cycle_left, dtype: int64"
      ]
     },
     "execution_count": 91,
     "metadata": {},
     "output_type": "execute_result"
    }
   ],
   "source": [
    "y_test[1:2]"
   ]
  },
  {
   "cell_type": "code",
   "execution_count": 90,
   "id": "5adf016b",
   "metadata": {},
   "outputs": [
    {
     "name": "stdout",
     "output_type": "stream",
     "text": [
      "Ranges From [80.73965407] to [46.01129642]\n"
     ]
    }
   ],
   "source": [
    "predicted_No_of_Cycle_Left=M17.predict(X_test[1:2])\n",
    "\n",
    "No_of_Cycle_Left_at_max_accuracy=(predicted_No_of_Cycle_Left*(accuracy))\n",
    "Range= No_of_Cycle_Left_at_max_accuracy-predicted_No_of_Cycle_Left\n",
    "\n",
    "min_Range=predicted_No_of_Cycle_Left+Range\n",
    "max_Range=predicted_No_of_Cycle_Left-Range\n",
    "\n",
    "print('Ranges From',max_Range,'to', min_Range)"
   ]
  },
  {
   "cell_type": "code",
   "execution_count": 92,
   "id": "35fe4b2c",
   "metadata": {},
   "outputs": [
    {
     "data": {
      "text/plain": [
       "array([63.37547525])"
      ]
     },
     "execution_count": 92,
     "metadata": {},
     "output_type": "execute_result"
    }
   ],
   "source": [
    "predicted_No_of_Cycle_Left"
   ]
  },
  {
   "cell_type": "code",
   "execution_count": 73,
   "id": "e10a1d9a",
   "metadata": {},
   "outputs": [],
   "source": [
    "import pickle\n",
    "filename = 'finalized_model.sav'\n",
    "pickle.dump(M10, open(filename, 'wb'))"
   ]
  }
 ],
 "metadata": {
  "kernelspec": {
   "display_name": "Python 3 (ipykernel)",
   "language": "python",
   "name": "python3"
  },
  "language_info": {
   "codemirror_mode": {
    "name": "ipython",
    "version": 3
   },
   "file_extension": ".py",
   "mimetype": "text/x-python",
   "name": "python",
   "nbconvert_exporter": "python",
   "pygments_lexer": "ipython3",
   "version": "3.9.12"
  }
 },
 "nbformat": 4,
 "nbformat_minor": 5
}
